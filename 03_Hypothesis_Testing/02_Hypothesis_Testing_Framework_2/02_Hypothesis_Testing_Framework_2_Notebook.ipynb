{
 "cells": [
  {
   "cell_type": "code",
   "execution_count": 1,
   "id": "46fc005a",
   "metadata": {},
   "outputs": [],
   "source": [
    "import numpy as np\n",
    "import pandas as pd\n",
    "import seaborn as sns\n",
    "import matplotlib.pyplot as plt\n",
    "\n",
    "from scipy.stats import norm,binom"
   ]
  },
  {
   "cell_type": "code",
   "execution_count": 2,
   "id": "fc0714cc",
   "metadata": {},
   "outputs": [
    {
     "data": {
      "text/plain": [
       "0.00020347600872250293"
      ]
     },
     "execution_count": 2,
     "metadata": {},
     "output_type": "execute_result"
    }
   ],
   "source": [
    "1-norm.cdf(x=1850,loc=1800,scale=(100/np.sqrt(50)))"
   ]
  },
  {
   "cell_type": "code",
   "execution_count": 3,
   "id": "c43556d7",
   "metadata": {},
   "outputs": [
    {
     "data": {
      "text/plain": [
       "0.00020347600872250293"
      ]
     },
     "execution_count": 3,
     "metadata": {},
     "output_type": "execute_result"
    }
   ],
   "source": [
    "1-norm.cdf((1850-1800)/((100/np.sqrt(50))))"
   ]
  },
  {
   "cell_type": "code",
   "execution_count": null,
   "id": "d711e277",
   "metadata": {},
   "outputs": [],
   "source": []
  },
  {
   "cell_type": "code",
   "execution_count": 4,
   "id": "8d68c22d",
   "metadata": {},
   "outputs": [
    {
     "data": {
      "text/plain": [
       "0.0126736593387341"
      ]
     },
     "execution_count": 4,
     "metadata": {},
     "output_type": "execute_result"
    }
   ],
   "source": [
    "1-norm.cdf(x=1900,loc=1800,scale=(100/np.sqrt(5)))"
   ]
  },
  {
   "cell_type": "code",
   "execution_count": 5,
   "id": "23406ce3",
   "metadata": {},
   "outputs": [
    {
     "data": {
      "text/plain": [
       "0.0126736593387341"
      ]
     },
     "execution_count": 5,
     "metadata": {},
     "output_type": "execute_result"
    }
   ],
   "source": [
    "1-norm.cdf((1900-1800)/((100/np.sqrt(5))))"
   ]
  },
  {
   "cell_type": "code",
   "execution_count": null,
   "id": "7c58d7cf",
   "metadata": {},
   "outputs": [],
   "source": []
  },
  {
   "cell_type": "code",
   "execution_count": 6,
   "id": "f6a10e52",
   "metadata": {},
   "outputs": [
    {
     "data": {
      "text/plain": [
       "2.23606797749979"
      ]
     },
     "execution_count": 6,
     "metadata": {},
     "output_type": "execute_result"
    }
   ],
   "source": [
    "(1900-1800)/((100/np.sqrt(5)))"
   ]
  },
  {
   "cell_type": "code",
   "execution_count": 8,
   "id": "8aa71d1f",
   "metadata": {},
   "outputs": [
    {
     "data": {
      "text/plain": [
       "0.012870000000000048"
      ]
     },
     "execution_count": 8,
     "metadata": {},
     "output_type": "execute_result"
    }
   ],
   "source": [
    "1-0.98713\n"
   ]
  },
  {
   "cell_type": "code",
   "execution_count": 14,
   "id": "7038c9a2",
   "metadata": {},
   "outputs": [
    {
     "data": {
      "text/plain": [
       "0.171875"
      ]
     },
     "execution_count": 14,
     "metadata": {},
     "output_type": "execute_result"
    }
   ],
   "source": [
    "1-binom.cdf(n=10,k=6,p=0.5)"
   ]
  },
  {
   "cell_type": "code",
   "execution_count": 12,
   "id": "5d3d1cd0",
   "metadata": {},
   "outputs": [
    {
     "data": {
      "text/plain": [
       "3.925069822796612e-05"
      ]
     },
     "execution_count": 12,
     "metadata": {},
     "output_type": "execute_result"
    }
   ],
   "source": [
    "1-binom.cdf(n=100,k=69,p=0.5)"
   ]
  },
  {
   "cell_type": "code",
   "execution_count": 13,
   "id": "527aad1b",
   "metadata": {},
   "outputs": [
    {
     "data": {
      "text/plain": [
       "0.0"
      ]
     },
     "execution_count": 13,
     "metadata": {},
     "output_type": "execute_result"
    }
   ],
   "source": [
    "1-binom.cdf(n=1000,k=699,p=0.5)"
   ]
  },
  {
   "cell_type": "code",
   "execution_count": 121,
   "id": "5242cf53",
   "metadata": {},
   "outputs": [
    {
     "data": {
      "text/plain": [
       "T    50112\n",
       "H    49888\n",
       "dtype: int64"
      ]
     },
     "execution_count": 121,
     "metadata": {},
     "output_type": "execute_result"
    }
   ],
   "source": [
    "pd.value_counts(np.random.choice([\"H\",\"T\"],size=100000))"
   ]
  },
  {
   "cell_type": "code",
   "execution_count": 122,
   "id": "d8c56733",
   "metadata": {},
   "outputs": [],
   "source": [
    "norm.ppf?"
   ]
  },
  {
   "cell_type": "code",
   "execution_count": 123,
   "id": "bfebc074",
   "metadata": {},
   "outputs": [
    {
     "data": {
      "text/plain": [
       "1832.8995271426638"
      ]
     },
     "execution_count": 123,
     "metadata": {},
     "output_type": "execute_result"
    }
   ],
   "source": [
    "norm.ppf(q=.99,loc=1800,scale=((100/np.sqrt(50))))"
   ]
  },
  {
   "cell_type": "code",
   "execution_count": 124,
   "id": "e0b5a44f",
   "metadata": {},
   "outputs": [
    {
     "data": {
      "text/plain": [
       "1823.2617430735336"
      ]
     },
     "execution_count": 124,
     "metadata": {},
     "output_type": "execute_result"
    }
   ],
   "source": [
    "norm.ppf(q=.95,loc=1800,scale=((100/np.sqrt(50))))"
   ]
  },
  {
   "cell_type": "code",
   "execution_count": 125,
   "id": "44d390bc",
   "metadata": {},
   "outputs": [
    {
     "data": {
      "text/plain": [
       "1904.0374397133487"
      ]
     },
     "execution_count": 125,
     "metadata": {},
     "output_type": "execute_result"
    }
   ],
   "source": [
    "norm.ppf(q=.99,loc=1800,scale=((100/np.sqrt(5))))"
   ]
  },
  {
   "cell_type": "code",
   "execution_count": 126,
   "id": "c3c5daa1",
   "metadata": {},
   "outputs": [
    {
     "data": {
      "text/plain": [
       "1873.5600904580115"
      ]
     },
     "execution_count": 126,
     "metadata": {},
     "output_type": "execute_result"
    }
   ],
   "source": [
    "norm.ppf(q=.95,loc=1800,scale=((100/np.sqrt(5))))"
   ]
  },
  {
   "cell_type": "code",
   "execution_count": 127,
   "id": "325eea27",
   "metadata": {},
   "outputs": [
    {
     "data": {
      "text/plain": [
       "2.3263478740408408"
      ]
     },
     "execution_count": 127,
     "metadata": {},
     "output_type": "execute_result"
    }
   ],
   "source": [
    "norm.ppf(0.99)"
   ]
  },
  {
   "cell_type": "code",
   "execution_count": 128,
   "id": "6fd5ea4b",
   "metadata": {},
   "outputs": [
    {
     "data": {
      "text/plain": [
       "1.6448536269514722"
      ]
     },
     "execution_count": 128,
     "metadata": {},
     "output_type": "execute_result"
    }
   ],
   "source": [
    "norm.ppf(0.95)"
   ]
  },
  {
   "cell_type": "code",
   "execution_count": 129,
   "id": "526ae645",
   "metadata": {},
   "outputs": [
    {
     "data": {
      "text/plain": [
       "-1.6448536269514729"
      ]
     },
     "execution_count": 129,
     "metadata": {},
     "output_type": "execute_result"
    }
   ],
   "source": [
    "norm.ppf(0.05)"
   ]
  },
  {
   "cell_type": "code",
   "execution_count": 130,
   "id": "9dabc59b",
   "metadata": {},
   "outputs": [
    {
     "data": {
      "text/plain": [
       "-1.9599639845400545"
      ]
     },
     "execution_count": 130,
     "metadata": {},
     "output_type": "execute_result"
    }
   ],
   "source": [
    "norm.ppf(0.025)"
   ]
  },
  {
   "cell_type": "code",
   "execution_count": 131,
   "id": "944c48f7",
   "metadata": {},
   "outputs": [
    {
     "data": {
      "text/plain": [
       "1.959963984540054"
      ]
     },
     "execution_count": 131,
     "metadata": {},
     "output_type": "execute_result"
    }
   ],
   "source": [
    "norm.ppf(0.975)"
   ]
  },
  {
   "cell_type": "code",
   "execution_count": 134,
   "id": "420e4c6d",
   "metadata": {},
   "outputs": [
    {
     "data": {
      "text/plain": [
       "0.00020347600872250293"
      ]
     },
     "execution_count": 134,
     "metadata": {},
     "output_type": "execute_result"
    }
   ],
   "source": [
    "1-norm.cdf(x=1850,loc=1800,scale=((100/np.sqrt(50))))"
   ]
  },
  {
   "cell_type": "code",
   "execution_count": 135,
   "id": "62125727",
   "metadata": {},
   "outputs": [
    {
     "data": {
      "text/plain": [
       "0.0126736593387341"
      ]
     },
     "execution_count": 135,
     "metadata": {},
     "output_type": "execute_result"
    }
   ],
   "source": [
    "1-norm.cdf(x=1900,loc=1800,scale=((100/np.sqrt(5))))"
   ]
  },
  {
   "cell_type": "code",
   "execution_count": null,
   "id": "7013303e",
   "metadata": {},
   "outputs": [],
   "source": []
  }
 ],
 "metadata": {
  "kernelspec": {
   "display_name": "Python 3 (ipykernel)",
   "language": "python",
   "name": "python3"
  },
  "language_info": {
   "codemirror_mode": {
    "name": "ipython",
    "version": 3
   },
   "file_extension": ".py",
   "mimetype": "text/x-python",
   "name": "python",
   "nbconvert_exporter": "python",
   "pygments_lexer": "ipython3",
   "version": "3.9.7"
  },
  "varInspector": {
   "cols": {
    "lenName": 16,
    "lenType": 16,
    "lenVar": 40
   },
   "kernels_config": {
    "python": {
     "delete_cmd_postfix": "",
     "delete_cmd_prefix": "del ",
     "library": "var_list.py",
     "varRefreshCmd": "print(var_dic_list())"
    },
    "r": {
     "delete_cmd_postfix": ") ",
     "delete_cmd_prefix": "rm(",
     "library": "var_list.r",
     "varRefreshCmd": "cat(var_dic_list()) "
    }
   },
   "types_to_exclude": [
    "module",
    "function",
    "builtin_function_or_method",
    "instance",
    "_Feature"
   ],
   "window_display": false
  }
 },
 "nbformat": 4,
 "nbformat_minor": 5
}
