{
 "cells": [
  {
   "cell_type": "markdown",
   "id": "f1689960",
   "metadata": {},
   "source": [
    "# Importing Libraries"
   ]
  },
  {
   "cell_type": "code",
   "execution_count": 19,
   "id": "1598e1bf",
   "metadata": {},
   "outputs": [],
   "source": [
    "import numpy as np\n",
    "import pandas as pd\n",
    "import seaborn as sns\n",
    "import matplotlib.pyplot as plt"
   ]
  },
  {
   "cell_type": "code",
   "execution_count": 58,
   "id": "2dca3b71",
   "metadata": {},
   "outputs": [],
   "source": [
    "\n",
    "from scipy.stats import f,f_oneway,kruskal,ttest_ind,levene,shapiro"
   ]
  },
  {
   "cell_type": "markdown",
   "id": "e1f4d231",
   "metadata": {
    "heading_collapsed": true
   },
   "source": [
    "# ANOVA"
   ]
  },
  {
   "cell_type": "code",
   "execution_count": 1,
   "id": "5fc62811",
   "metadata": {
    "hidden": true
   },
   "outputs": [],
   "source": [
    "a = np.array([25, 25, 27, 30, 23, 20])\n",
    "b = np.array([30, 30, 21, 24, 26, 28])\n",
    "c = np.array([18, 30, 29, 29, 24, 26])"
   ]
  },
  {
   "cell_type": "code",
   "execution_count": 2,
   "id": "f5781ce9",
   "metadata": {
    "hidden": true
   },
   "outputs": [
    {
     "name": "stdout",
     "output_type": "stream",
     "text": [
      "a :  [25 25 27 30 23 20]\n",
      "b :  [30 30 21 24 26 28]\n",
      "c :  [18 30 29 29 24 26]\n"
     ]
    }
   ],
   "source": [
    "print(\"a : \", a)\n",
    "print(\"b : \", b)\n",
    "print(\"c : \", c)\n"
   ]
  },
  {
   "cell_type": "code",
   "execution_count": 4,
   "id": "ce0188af",
   "metadata": {
    "hidden": true
   },
   "outputs": [
    {
     "name": "stdout",
     "output_type": "stream",
     "text": [
      "Avg(a) : 25.0\n",
      "Avg(b) : 26.5\n",
      "Avg(c) : 26.0\n"
     ]
    }
   ],
   "source": [
    "print(\"Avg(a) :\",np.mean(a))\n",
    "print(\"Avg(b) :\",np.mean(b))\n",
    "print(\"Avg(c) :\",np.mean(c))"
   ]
  },
  {
   "cell_type": "code",
   "execution_count": 5,
   "id": "a9722664",
   "metadata": {
    "hidden": true
   },
   "outputs": [
    {
     "data": {
      "text/plain": [
       "7.0002"
      ]
     },
     "execution_count": 5,
     "metadata": {},
     "output_type": "execute_result"
    }
   ],
   "source": [
    "(6*((25-25.83)**2))+(6*((26.5-25.83)**2))+(6*((26-25.83)**2))"
   ]
  },
  {
   "cell_type": "code",
   "execution_count": 9,
   "id": "43f5c390",
   "metadata": {
    "hidden": true
   },
   "outputs": [
    {
     "data": {
      "text/plain": [
       "223.5"
      ]
     },
     "execution_count": 9,
     "metadata": {},
     "output_type": "execute_result"
    }
   ],
   "source": [
    "np.sum((a-a.mean())**2)+np.sum((b-b.mean())**2)+np.sum((c-c.mean())**2)"
   ]
  },
  {
   "cell_type": "code",
   "execution_count": 10,
   "id": "918c449c",
   "metadata": {
    "hidden": true
   },
   "outputs": [
    {
     "data": {
      "text/plain": [
       "58.0"
      ]
     },
     "execution_count": 10,
     "metadata": {},
     "output_type": "execute_result"
    }
   ],
   "source": [
    "np.sum((a-a.mean())**2)"
   ]
  },
  {
   "cell_type": "code",
   "execution_count": 14,
   "id": "49af0bf2",
   "metadata": {
    "hidden": true
   },
   "outputs": [
    {
     "name": "stdout",
     "output_type": "stream",
     "text": [
      "p_value :  0.7935810912142631\n",
      "Interpretation : Fail to Reject Ho\n"
     ]
    }
   ],
   "source": [
    "p_value=1-f.cdf(0.2348,dfn=2,dfd=15)\n",
    "print(\"p_value : \",p_value)\n",
    "alpha = 0.05\n",
    "if p_value< alpha:\n",
    "    print(\"Interpretation : Reject Ho\")\n",
    "    print(\"Conclusion : Gender Affects the buying pattern\")\n",
    "else:\n",
    "    print(\"Interpretation : Fail to Reject Ho\")"
   ]
  },
  {
   "cell_type": "code",
   "execution_count": 17,
   "id": "10367609",
   "metadata": {
    "hidden": true
   },
   "outputs": [
    {
     "name": "stdout",
     "output_type": "stream",
     "text": [
      "f_stat :  0.2348993288590604\n",
      "p_value :  0.793504662732833\n",
      "Interpretation : Fail to Reject Ho\n"
     ]
    }
   ],
   "source": [
    "f_stat,p_value=f_oneway(a,b,c)\n",
    "print(\"f_stat : \",f_stat)\n",
    "print(\"p_value : \",p_value)\n",
    "alpha = 0.05\n",
    "if p_value< alpha:\n",
    "    print(\"Interpretation : Reject Ho\")\n",
    "    print(\"Conclusion : Gender Affects the buying pattern\")\n",
    "else:\n",
    "    print(\"Interpretation : Fail to Reject Ho\")"
   ]
  },
  {
   "cell_type": "markdown",
   "id": "c13857e5",
   "metadata": {
    "heading_collapsed": true
   },
   "source": [
    "# Aerofit -->  Anova"
   ]
  },
  {
   "cell_type": "code",
   "execution_count": 20,
   "id": "209b92a5",
   "metadata": {
    "hidden": true
   },
   "outputs": [
    {
     "data": {
      "text/html": [
       "<div>\n",
       "<style scoped>\n",
       "    .dataframe tbody tr th:only-of-type {\n",
       "        vertical-align: middle;\n",
       "    }\n",
       "\n",
       "    .dataframe tbody tr th {\n",
       "        vertical-align: top;\n",
       "    }\n",
       "\n",
       "    .dataframe thead th {\n",
       "        text-align: right;\n",
       "    }\n",
       "</style>\n",
       "<table border=\"1\" class=\"dataframe\">\n",
       "  <thead>\n",
       "    <tr style=\"text-align: right;\">\n",
       "      <th></th>\n",
       "      <th>Product</th>\n",
       "      <th>Age</th>\n",
       "      <th>Gender</th>\n",
       "      <th>Education</th>\n",
       "      <th>MaritalStatus</th>\n",
       "      <th>Usage</th>\n",
       "      <th>Fitness</th>\n",
       "      <th>Income</th>\n",
       "      <th>Miles</th>\n",
       "    </tr>\n",
       "  </thead>\n",
       "  <tbody>\n",
       "    <tr>\n",
       "      <th>0</th>\n",
       "      <td>KP281</td>\n",
       "      <td>18</td>\n",
       "      <td>Male</td>\n",
       "      <td>14</td>\n",
       "      <td>Single</td>\n",
       "      <td>3</td>\n",
       "      <td>4</td>\n",
       "      <td>29562</td>\n",
       "      <td>112</td>\n",
       "    </tr>\n",
       "    <tr>\n",
       "      <th>1</th>\n",
       "      <td>KP281</td>\n",
       "      <td>19</td>\n",
       "      <td>Male</td>\n",
       "      <td>15</td>\n",
       "      <td>Single</td>\n",
       "      <td>2</td>\n",
       "      <td>3</td>\n",
       "      <td>31836</td>\n",
       "      <td>75</td>\n",
       "    </tr>\n",
       "    <tr>\n",
       "      <th>2</th>\n",
       "      <td>KP281</td>\n",
       "      <td>19</td>\n",
       "      <td>Female</td>\n",
       "      <td>14</td>\n",
       "      <td>Partnered</td>\n",
       "      <td>4</td>\n",
       "      <td>3</td>\n",
       "      <td>30699</td>\n",
       "      <td>66</td>\n",
       "    </tr>\n",
       "    <tr>\n",
       "      <th>3</th>\n",
       "      <td>KP281</td>\n",
       "      <td>19</td>\n",
       "      <td>Male</td>\n",
       "      <td>12</td>\n",
       "      <td>Single</td>\n",
       "      <td>3</td>\n",
       "      <td>3</td>\n",
       "      <td>32973</td>\n",
       "      <td>85</td>\n",
       "    </tr>\n",
       "    <tr>\n",
       "      <th>4</th>\n",
       "      <td>KP281</td>\n",
       "      <td>20</td>\n",
       "      <td>Male</td>\n",
       "      <td>13</td>\n",
       "      <td>Partnered</td>\n",
       "      <td>4</td>\n",
       "      <td>2</td>\n",
       "      <td>35247</td>\n",
       "      <td>47</td>\n",
       "    </tr>\n",
       "    <tr>\n",
       "      <th>...</th>\n",
       "      <td>...</td>\n",
       "      <td>...</td>\n",
       "      <td>...</td>\n",
       "      <td>...</td>\n",
       "      <td>...</td>\n",
       "      <td>...</td>\n",
       "      <td>...</td>\n",
       "      <td>...</td>\n",
       "      <td>...</td>\n",
       "    </tr>\n",
       "    <tr>\n",
       "      <th>175</th>\n",
       "      <td>KP781</td>\n",
       "      <td>40</td>\n",
       "      <td>Male</td>\n",
       "      <td>21</td>\n",
       "      <td>Single</td>\n",
       "      <td>6</td>\n",
       "      <td>5</td>\n",
       "      <td>83416</td>\n",
       "      <td>200</td>\n",
       "    </tr>\n",
       "    <tr>\n",
       "      <th>176</th>\n",
       "      <td>KP781</td>\n",
       "      <td>42</td>\n",
       "      <td>Male</td>\n",
       "      <td>18</td>\n",
       "      <td>Single</td>\n",
       "      <td>5</td>\n",
       "      <td>4</td>\n",
       "      <td>89641</td>\n",
       "      <td>200</td>\n",
       "    </tr>\n",
       "    <tr>\n",
       "      <th>177</th>\n",
       "      <td>KP781</td>\n",
       "      <td>45</td>\n",
       "      <td>Male</td>\n",
       "      <td>16</td>\n",
       "      <td>Single</td>\n",
       "      <td>5</td>\n",
       "      <td>5</td>\n",
       "      <td>90886</td>\n",
       "      <td>160</td>\n",
       "    </tr>\n",
       "    <tr>\n",
       "      <th>178</th>\n",
       "      <td>KP781</td>\n",
       "      <td>47</td>\n",
       "      <td>Male</td>\n",
       "      <td>18</td>\n",
       "      <td>Partnered</td>\n",
       "      <td>4</td>\n",
       "      <td>5</td>\n",
       "      <td>104581</td>\n",
       "      <td>120</td>\n",
       "    </tr>\n",
       "    <tr>\n",
       "      <th>179</th>\n",
       "      <td>KP781</td>\n",
       "      <td>48</td>\n",
       "      <td>Male</td>\n",
       "      <td>18</td>\n",
       "      <td>Partnered</td>\n",
       "      <td>4</td>\n",
       "      <td>5</td>\n",
       "      <td>95508</td>\n",
       "      <td>180</td>\n",
       "    </tr>\n",
       "  </tbody>\n",
       "</table>\n",
       "<p>180 rows × 9 columns</p>\n",
       "</div>"
      ],
      "text/plain": [
       "    Product  Age  Gender  Education MaritalStatus  Usage  Fitness  Income  \\\n",
       "0     KP281   18    Male         14        Single      3        4   29562   \n",
       "1     KP281   19    Male         15        Single      2        3   31836   \n",
       "2     KP281   19  Female         14     Partnered      4        3   30699   \n",
       "3     KP281   19    Male         12        Single      3        3   32973   \n",
       "4     KP281   20    Male         13     Partnered      4        2   35247   \n",
       "..      ...  ...     ...        ...           ...    ...      ...     ...   \n",
       "175   KP781   40    Male         21        Single      6        5   83416   \n",
       "176   KP781   42    Male         18        Single      5        4   89641   \n",
       "177   KP781   45    Male         16        Single      5        5   90886   \n",
       "178   KP781   47    Male         18     Partnered      4        5  104581   \n",
       "179   KP781   48    Male         18     Partnered      4        5   95508   \n",
       "\n",
       "     Miles  \n",
       "0      112  \n",
       "1       75  \n",
       "2       66  \n",
       "3       85  \n",
       "4       47  \n",
       "..     ...  \n",
       "175    200  \n",
       "176    200  \n",
       "177    160  \n",
       "178    120  \n",
       "179    180  \n",
       "\n",
       "[180 rows x 9 columns]"
      ]
     },
     "execution_count": 20,
     "metadata": {},
     "output_type": "execute_result"
    }
   ],
   "source": [
    "df=pd.read_csv(\"aerofit.csv\")\n",
    "df"
   ]
  },
  {
   "cell_type": "code",
   "execution_count": 21,
   "id": "27027bcd",
   "metadata": {
    "hidden": true
   },
   "outputs": [
    {
     "data": {
      "text/plain": [
       "array(['KP281', 'KP481', 'KP781'], dtype=object)"
      ]
     },
     "execution_count": 21,
     "metadata": {},
     "output_type": "execute_result"
    }
   ],
   "source": [
    "df[\"Product\"].unique()"
   ]
  },
  {
   "cell_type": "code",
   "execution_count": 22,
   "id": "f769d29e",
   "metadata": {
    "hidden": true
   },
   "outputs": [
    {
     "data": {
      "text/plain": [
       "<AxesSubplot:xlabel='Product', ylabel='Income'>"
      ]
     },
     "execution_count": 22,
     "metadata": {},
     "output_type": "execute_result"
    },
    {
     "data": {
      "image/png": "[encoded data removed]",
      "text/plain": [
       "<Figure size 432x288 with 1 Axes>"
      ]
     },
     "metadata": {
      "needs_background": "light"
     },
     "output_type": "display_data"
    }
   ],
   "source": [
    "sns.boxplot(x=\"Product\",y=\"Income\",data=df)"
   ]
  },
  {
   "cell_type": "code",
   "execution_count": 31,
   "id": "07604550",
   "metadata": {
    "hidden": true
   },
   "outputs": [
    {
     "data": {
      "text/html": [
       "<div>\n",
       "<style scoped>\n",
       "    .dataframe tbody tr th:only-of-type {\n",
       "        vertical-align: middle;\n",
       "    }\n",
       "\n",
       "    .dataframe tbody tr th {\n",
       "        vertical-align: top;\n",
       "    }\n",
       "\n",
       "    .dataframe thead th {\n",
       "        text-align: right;\n",
       "    }\n",
       "</style>\n",
       "<table border=\"1\" class=\"dataframe\">\n",
       "  <thead>\n",
       "    <tr style=\"text-align: right;\">\n",
       "      <th></th>\n",
       "      <th>Product</th>\n",
       "      <th>Age</th>\n",
       "      <th>Gender</th>\n",
       "      <th>Education</th>\n",
       "      <th>MaritalStatus</th>\n",
       "      <th>Usage</th>\n",
       "      <th>Fitness</th>\n",
       "      <th>Income</th>\n",
       "      <th>Miles</th>\n",
       "      <th>random_group</th>\n",
       "    </tr>\n",
       "  </thead>\n",
       "  <tbody>\n",
       "    <tr>\n",
       "      <th>0</th>\n",
       "      <td>KP281</td>\n",
       "      <td>18</td>\n",
       "      <td>Male</td>\n",
       "      <td>14</td>\n",
       "      <td>Single</td>\n",
       "      <td>3</td>\n",
       "      <td>4</td>\n",
       "      <td>29562</td>\n",
       "      <td>112</td>\n",
       "      <td>g1</td>\n",
       "    </tr>\n",
       "    <tr>\n",
       "      <th>1</th>\n",
       "      <td>KP281</td>\n",
       "      <td>19</td>\n",
       "      <td>Male</td>\n",
       "      <td>15</td>\n",
       "      <td>Single</td>\n",
       "      <td>2</td>\n",
       "      <td>3</td>\n",
       "      <td>31836</td>\n",
       "      <td>75</td>\n",
       "      <td>g2</td>\n",
       "    </tr>\n",
       "    <tr>\n",
       "      <th>2</th>\n",
       "      <td>KP281</td>\n",
       "      <td>19</td>\n",
       "      <td>Female</td>\n",
       "      <td>14</td>\n",
       "      <td>Partnered</td>\n",
       "      <td>4</td>\n",
       "      <td>3</td>\n",
       "      <td>30699</td>\n",
       "      <td>66</td>\n",
       "      <td>g2</td>\n",
       "    </tr>\n",
       "    <tr>\n",
       "      <th>3</th>\n",
       "      <td>KP281</td>\n",
       "      <td>19</td>\n",
       "      <td>Male</td>\n",
       "      <td>12</td>\n",
       "      <td>Single</td>\n",
       "      <td>3</td>\n",
       "      <td>3</td>\n",
       "      <td>32973</td>\n",
       "      <td>85</td>\n",
       "      <td>g2</td>\n",
       "    </tr>\n",
       "    <tr>\n",
       "      <th>4</th>\n",
       "      <td>KP281</td>\n",
       "      <td>20</td>\n",
       "      <td>Male</td>\n",
       "      <td>13</td>\n",
       "      <td>Partnered</td>\n",
       "      <td>4</td>\n",
       "      <td>2</td>\n",
       "      <td>35247</td>\n",
       "      <td>47</td>\n",
       "      <td>g1</td>\n",
       "    </tr>\n",
       "    <tr>\n",
       "      <th>...</th>\n",
       "      <td>...</td>\n",
       "      <td>...</td>\n",
       "      <td>...</td>\n",
       "      <td>...</td>\n",
       "      <td>...</td>\n",
       "      <td>...</td>\n",
       "      <td>...</td>\n",
       "      <td>...</td>\n",
       "      <td>...</td>\n",
       "      <td>...</td>\n",
       "    </tr>\n",
       "    <tr>\n",
       "      <th>175</th>\n",
       "      <td>KP781</td>\n",
       "      <td>40</td>\n",
       "      <td>Male</td>\n",
       "      <td>21</td>\n",
       "      <td>Single</td>\n",
       "      <td>6</td>\n",
       "      <td>5</td>\n",
       "      <td>83416</td>\n",
       "      <td>200</td>\n",
       "      <td>g3</td>\n",
       "    </tr>\n",
       "    <tr>\n",
       "      <th>176</th>\n",
       "      <td>KP781</td>\n",
       "      <td>42</td>\n",
       "      <td>Male</td>\n",
       "      <td>18</td>\n",
       "      <td>Single</td>\n",
       "      <td>5</td>\n",
       "      <td>4</td>\n",
       "      <td>89641</td>\n",
       "      <td>200</td>\n",
       "      <td>g2</td>\n",
       "    </tr>\n",
       "    <tr>\n",
       "      <th>177</th>\n",
       "      <td>KP781</td>\n",
       "      <td>45</td>\n",
       "      <td>Male</td>\n",
       "      <td>16</td>\n",
       "      <td>Single</td>\n",
       "      <td>5</td>\n",
       "      <td>5</td>\n",
       "      <td>90886</td>\n",
       "      <td>160</td>\n",
       "      <td>g3</td>\n",
       "    </tr>\n",
       "    <tr>\n",
       "      <th>178</th>\n",
       "      <td>KP781</td>\n",
       "      <td>47</td>\n",
       "      <td>Male</td>\n",
       "      <td>18</td>\n",
       "      <td>Partnered</td>\n",
       "      <td>4</td>\n",
       "      <td>5</td>\n",
       "      <td>104581</td>\n",
       "      <td>120</td>\n",
       "      <td>g1</td>\n",
       "    </tr>\n",
       "    <tr>\n",
       "      <th>179</th>\n",
       "      <td>KP781</td>\n",
       "      <td>48</td>\n",
       "      <td>Male</td>\n",
       "      <td>18</td>\n",
       "      <td>Partnered</td>\n",
       "      <td>4</td>\n",
       "      <td>5</td>\n",
       "      <td>95508</td>\n",
       "      <td>180</td>\n",
       "      <td>g1</td>\n",
       "    </tr>\n",
       "  </tbody>\n",
       "</table>\n",
       "<p>180 rows × 10 columns</p>\n",
       "</div>"
      ],
      "text/plain": [
       "    Product  Age  Gender  Education MaritalStatus  Usage  Fitness  Income  \\\n",
       "0     KP281   18    Male         14        Single      3        4   29562   \n",
       "1     KP281   19    Male         15        Single      2        3   31836   \n",
       "2     KP281   19  Female         14     Partnered      4        3   30699   \n",
       "3     KP281   19    Male         12        Single      3        3   32973   \n",
       "4     KP281   20    Male         13     Partnered      4        2   35247   \n",
       "..      ...  ...     ...        ...           ...    ...      ...     ...   \n",
       "175   KP781   40    Male         21        Single      6        5   83416   \n",
       "176   KP781   42    Male         18        Single      5        4   89641   \n",
       "177   KP781   45    Male         16        Single      5        5   90886   \n",
       "178   KP781   47    Male         18     Partnered      4        5  104581   \n",
       "179   KP781   48    Male         18     Partnered      4        5   95508   \n",
       "\n",
       "     Miles random_group  \n",
       "0      112           g1  \n",
       "1       75           g2  \n",
       "2       66           g2  \n",
       "3       85           g2  \n",
       "4       47           g1  \n",
       "..     ...          ...  \n",
       "175    200           g3  \n",
       "176    200           g2  \n",
       "177    160           g3  \n",
       "178    120           g1  \n",
       "179    180           g1  \n",
       "\n",
       "[180 rows x 10 columns]"
      ]
     },
     "execution_count": 31,
     "metadata": {},
     "output_type": "execute_result"
    }
   ],
   "source": [
    "df[\"random_group\"]=np.random.choice([\"g1\",\"g2\",\"g3\"],size=len(df))\n",
    "df"
   ]
  },
  {
   "cell_type": "code",
   "execution_count": 32,
   "id": "cf0ac0cd",
   "metadata": {
    "hidden": true
   },
   "outputs": [
    {
     "data": {
      "text/plain": [
       "<AxesSubplot:xlabel='random_group', ylabel='Income'>"
      ]
     },
     "execution_count": 32,
     "metadata": {},
     "output_type": "execute_result"
    },
    {
     "data": {
      "image/png": "[encoded data removed]",
      "text/plain": [
       "<Figure size 432x288 with 1 Axes>"
      ]
     },
     "metadata": {
      "needs_background": "light"
     },
     "output_type": "display_data"
    }
   ],
   "source": [
    "sns.boxplot(x=\"random_group\",y=\"Income\",data=df)"
   ]
  },
  {
   "cell_type": "code",
   "execution_count": 33,
   "id": "97aaf7ee",
   "metadata": {
    "hidden": true
   },
   "outputs": [],
   "source": [
    "income_g1 = df[df[\"random_group\"]==\"g1\"][\"Income\"]\n",
    "income_g2 = df[df[\"random_group\"]==\"g2\"][\"Income\"]\n",
    "income_g3 = df[df[\"random_group\"]==\"g3\"][\"Income\"]"
   ]
  },
  {
   "cell_type": "code",
   "execution_count": 34,
   "id": "c85cc7f6",
   "metadata": {
    "hidden": true
   },
   "outputs": [
    {
     "name": "stdout",
     "output_type": "stream",
     "text": [
      "f_stat :  0.505206271164861\n",
      "p_value :  0.6042485016417896\n",
      "Interpretation : Fail to Reject Ho\n"
     ]
    }
   ],
   "source": [
    "# Ho : All have the same means \n",
    "# Ha : Atleast one of them is different\n",
    "f_stat,p_value=f_oneway(income_g1,income_g2,income_g3)\n",
    "print(\"f_stat : \",f_stat)\n",
    "print(\"p_value : \",p_value)\n",
    "alpha = 0.05\n",
    "if p_value< alpha:\n",
    "    print(\"Interpretation : Reject Ho\")\n",
    "    print(\"Conclusion : Gender Affects the buying pattern\")\n",
    "else:\n",
    "    print(\"Interpretation : Fail to Reject Ho\")"
   ]
  },
  {
   "cell_type": "code",
   "execution_count": 37,
   "id": "93da56a8",
   "metadata": {
    "hidden": true
   },
   "outputs": [
    {
     "name": "stdout",
     "output_type": "stream",
     "text": [
      "income_g1 Mean : 53949.056603773584\n",
      "income_g2 Mean : 52301.07142857143\n",
      "income_g3 Mean : 55248.228070175435\n"
     ]
    }
   ],
   "source": [
    "print(\"income_g1 Mean :\",income_g1.mean())\n",
    "print(\"income_g2 Mean :\",income_g2.mean())\n",
    "print(\"income_g3 Mean :\",income_g3.mean())"
   ]
  },
  {
   "cell_type": "code",
   "execution_count": 35,
   "id": "1e163570",
   "metadata": {
    "hidden": true
   },
   "outputs": [],
   "source": [
    "income_281 = df[df[\"Product\"]==\"KP281\"][\"Income\"]\n",
    "income_481 = df[df[\"Product\"]==\"KP481\"][\"Income\"]\n",
    "income_781 = df[df[\"Product\"]==\"KP781\"][\"Income\"]"
   ]
  },
  {
   "cell_type": "code",
   "execution_count": 36,
   "id": "633bae47",
   "metadata": {
    "hidden": true
   },
   "outputs": [
    {
     "name": "stdout",
     "output_type": "stream",
     "text": [
      "income_281 Mean : 46418.025\n",
      "income_481 Mean : 48973.65\n",
      "income_781 Mean : 75441.575\n"
     ]
    }
   ],
   "source": [
    "print(\"income_281 Mean :\",income_281.mean())\n",
    "print(\"income_481 Mean :\",income_481.mean())\n",
    "print(\"income_781 Mean :\",income_781.mean())"
   ]
  },
  {
   "cell_type": "code",
   "execution_count": 38,
   "id": "5c64d250",
   "metadata": {
    "hidden": true
   },
   "outputs": [
    {
     "name": "stdout",
     "output_type": "stream",
     "text": [
      "f_stat :  89.25903546601671\n",
      "p_value :  1.5644991316342494e-27\n",
      "Interpretation : Reject Ho\n",
      "Conclusion : Atleast one of them is different\n"
     ]
    }
   ],
   "source": [
    "# Ho : All have the same means \n",
    "# Ha : Atleast one of them is different\n",
    "f_stat,p_value=f_oneway(income_281,income_481,income_781)\n",
    "print(\"f_stat : \",f_stat)\n",
    "print(\"p_value : \",p_value)\n",
    "alpha = 0.05\n",
    "if p_value< alpha:\n",
    "    print(\"Interpretation : Reject Ho\")\n",
    "    print(\"Conclusion : Atleast one of them is different\")\n",
    "else:\n",
    "    print(\"Interpretation : Fail to Reject Ho\")"
   ]
  },
  {
   "cell_type": "code",
   "execution_count": 41,
   "id": "e97740ee",
   "metadata": {
    "hidden": true
   },
   "outputs": [
    {
     "name": "stdout",
     "output_type": "stream",
     "text": [
      "f_stat :  61.43670384567185\n",
      "p_value :  4.562357014275808e-14\n",
      "Interpretation : Reject Ho\n",
      "Conclusion : Atleast one of them is different\n"
     ]
    }
   ],
   "source": [
    "# Ho : All have the same means \n",
    "# Ha : Atleast one of them is different\n",
    "f_stat,p_value=kruskal(income_281,income_481,income_781)\n",
    "print(\"f_stat : \",f_stat)\n",
    "print(\"p_value : \",p_value)\n",
    "alpha = 0.05\n",
    "if p_value< alpha:\n",
    "    print(\"Interpretation : Reject Ho\")\n",
    "    print(\"Conclusion : Atleast one of them is different\")\n",
    "else:\n",
    "    print(\"Interpretation : Fail to Reject Ho\")"
   ]
  },
  {
   "cell_type": "code",
   "execution_count": 42,
   "id": "9124f19e",
   "metadata": {
    "hidden": true
   },
   "outputs": [
    {
     "data": {
      "text/plain": [
       "<AxesSubplot:xlabel='Income', ylabel='Density'>"
      ]
     },
     "execution_count": 42,
     "metadata": {},
     "output_type": "execute_result"
    },
    {
     "data": {
      "image/png": "[encoded data removed]",
      "text/plain": [
       "<Figure size 432x288 with 1 Axes>"
      ]
     },
     "metadata": {
      "needs_background": "light"
     },
     "output_type": "display_data"
    }
   ],
   "source": [
    "sns.kdeplot(x=\"Income\",hue=\"Product\",data=df)"
   ]
  },
  {
   "cell_type": "code",
   "execution_count": 43,
   "id": "c08f2a00",
   "metadata": {
    "hidden": true
   },
   "outputs": [
    {
     "data": {
      "text/plain": [
       "<AxesSubplot:xlabel='Income', ylabel='Density'>"
      ]
     },
     "execution_count": 43,
     "metadata": {},
     "output_type": "execute_result"
    },
    {
     "data": {
      "image/png": "[encoded data removed]",
      "text/plain": [
       "<Figure size 432x288 with 1 Axes>"
      ]
     },
     "metadata": {
      "needs_background": "light"
     },
     "output_type": "display_data"
    }
   ],
   "source": [
    "sns.kdeplot(x=\"Income\",hue=\"random_group\",data=df)"
   ]
  },
  {
   "cell_type": "code",
   "execution_count": 44,
   "id": "f12a01f6",
   "metadata": {
    "hidden": true
   },
   "outputs": [
    {
     "name": "stdout",
     "output_type": "stream",
     "text": [
      "f_stat :  0.3110749103494736\n",
      "p_value :  0.8559550163838108\n",
      "Interpretation : Fail to Reject Ho\n"
     ]
    }
   ],
   "source": [
    "# Ho : All are similar\n",
    "# Ha : Atleast one of them is different\n",
    "f_stat,p_value=kruskal(income_g1,income_g2,income_g3)\n",
    "print(\"f_stat : \",f_stat)\n",
    "print(\"p_value : \",p_value)\n",
    "alpha = 0.05\n",
    "if p_value< alpha:\n",
    "    print(\"Interpretation : Reject Ho\")\n",
    "    print(\"Conclusion : Atleast one of them is different\")\n",
    "else:\n",
    "    print(\"Interpretation : Fail to Reject Ho\")"
   ]
  },
  {
   "cell_type": "markdown",
   "id": "6e9d7ff9",
   "metadata": {
    "heading_collapsed": true
   },
   "source": [
    "# Levene Test\n"
   ]
  },
  {
   "cell_type": "code",
   "execution_count": 45,
   "id": "3f3237aa",
   "metadata": {
    "hidden": true
   },
   "outputs": [
    {
     "data": {
      "text/html": [
       "<div>\n",
       "<style scoped>\n",
       "    .dataframe tbody tr th:only-of-type {\n",
       "        vertical-align: middle;\n",
       "    }\n",
       "\n",
       "    .dataframe tbody tr th {\n",
       "        vertical-align: top;\n",
       "    }\n",
       "\n",
       "    .dataframe thead th {\n",
       "        text-align: right;\n",
       "    }\n",
       "</style>\n",
       "<table border=\"1\" class=\"dataframe\">\n",
       "  <thead>\n",
       "    <tr style=\"text-align: right;\">\n",
       "      <th></th>\n",
       "      <th>Gender</th>\n",
       "      <th>Height</th>\n",
       "      <th>Weight</th>\n",
       "    </tr>\n",
       "  </thead>\n",
       "  <tbody>\n",
       "    <tr>\n",
       "      <th>0</th>\n",
       "      <td>Male</td>\n",
       "      <td>73.847017</td>\n",
       "      <td>241.893563</td>\n",
       "    </tr>\n",
       "    <tr>\n",
       "      <th>1</th>\n",
       "      <td>Male</td>\n",
       "      <td>68.781904</td>\n",
       "      <td>162.310473</td>\n",
       "    </tr>\n",
       "    <tr>\n",
       "      <th>2</th>\n",
       "      <td>Male</td>\n",
       "      <td>74.110105</td>\n",
       "      <td>212.740856</td>\n",
       "    </tr>\n",
       "    <tr>\n",
       "      <th>3</th>\n",
       "      <td>Male</td>\n",
       "      <td>71.730978</td>\n",
       "      <td>220.042470</td>\n",
       "    </tr>\n",
       "    <tr>\n",
       "      <th>4</th>\n",
       "      <td>Male</td>\n",
       "      <td>69.881796</td>\n",
       "      <td>206.349801</td>\n",
       "    </tr>\n",
       "    <tr>\n",
       "      <th>...</th>\n",
       "      <td>...</td>\n",
       "      <td>...</td>\n",
       "      <td>...</td>\n",
       "    </tr>\n",
       "    <tr>\n",
       "      <th>9995</th>\n",
       "      <td>Female</td>\n",
       "      <td>66.172652</td>\n",
       "      <td>136.777454</td>\n",
       "    </tr>\n",
       "    <tr>\n",
       "      <th>9996</th>\n",
       "      <td>Female</td>\n",
       "      <td>67.067155</td>\n",
       "      <td>170.867906</td>\n",
       "    </tr>\n",
       "    <tr>\n",
       "      <th>9997</th>\n",
       "      <td>Female</td>\n",
       "      <td>63.867992</td>\n",
       "      <td>128.475319</td>\n",
       "    </tr>\n",
       "    <tr>\n",
       "      <th>9998</th>\n",
       "      <td>Female</td>\n",
       "      <td>69.034243</td>\n",
       "      <td>163.852461</td>\n",
       "    </tr>\n",
       "    <tr>\n",
       "      <th>9999</th>\n",
       "      <td>Female</td>\n",
       "      <td>61.944246</td>\n",
       "      <td>113.649103</td>\n",
       "    </tr>\n",
       "  </tbody>\n",
       "</table>\n",
       "<p>10000 rows × 3 columns</p>\n",
       "</div>"
      ],
      "text/plain": [
       "      Gender     Height      Weight\n",
       "0       Male  73.847017  241.893563\n",
       "1       Male  68.781904  162.310473\n",
       "2       Male  74.110105  212.740856\n",
       "3       Male  71.730978  220.042470\n",
       "4       Male  69.881796  206.349801\n",
       "...      ...        ...         ...\n",
       "9995  Female  66.172652  136.777454\n",
       "9996  Female  67.067155  170.867906\n",
       "9997  Female  63.867992  128.475319\n",
       "9998  Female  69.034243  163.852461\n",
       "9999  Female  61.944246  113.649103\n",
       "\n",
       "[10000 rows x 3 columns]"
      ]
     },
     "execution_count": 45,
     "metadata": {},
     "output_type": "execute_result"
    }
   ],
   "source": [
    "df1=pd.read_csv(\"weight-height.csv\")\n",
    "df1"
   ]
  },
  {
   "cell_type": "code",
   "execution_count": 46,
   "id": "03a5b918",
   "metadata": {
    "hidden": true
   },
   "outputs": [],
   "source": [
    "height_men = df1[df1[\"Gender\"]==\"Male\"][\"Height\"]\n",
    "height_women = df1[df1[\"Gender\"]==\"Female\"][\"Height\"]"
   ]
  },
  {
   "cell_type": "code",
   "execution_count": 47,
   "id": "fb4f607c",
   "metadata": {
    "hidden": true
   },
   "outputs": [
    {
     "data": {
      "text/plain": [
       "<AxesSubplot:xlabel='Height', ylabel='Count'>"
      ]
     },
     "execution_count": 47,
     "metadata": {},
     "output_type": "execute_result"
    },
    {
     "data": {
      "image/png": "[encoded data removed]",
      "text/plain": [
       "<Figure size 432x288 with 1 Axes>"
      ]
     },
     "metadata": {
      "needs_background": "light"
     },
     "output_type": "display_data"
    }
   ],
   "source": [
    "sns.histplot(data=df1, x=\"Height\", hue=\"Gender\")"
   ]
  },
  {
   "cell_type": "code",
   "execution_count": 49,
   "id": "f51fe46d",
   "metadata": {
    "hidden": true
   },
   "outputs": [
    {
     "data": {
      "text/plain": [
       "69.02634590621737"
      ]
     },
     "execution_count": 49,
     "metadata": {},
     "output_type": "execute_result"
    }
   ],
   "source": [
    "height_men.mean()"
   ]
  },
  {
   "cell_type": "code",
   "execution_count": 48,
   "id": "384d7fd5",
   "metadata": {
    "hidden": true
   },
   "outputs": [
    {
     "data": {
      "text/plain": [
       "63.708773603424916"
      ]
     },
     "execution_count": 48,
     "metadata": {},
     "output_type": "execute_result"
    }
   ],
   "source": [
    "height_women.mean()"
   ]
  },
  {
   "cell_type": "code",
   "execution_count": 52,
   "id": "1bf7efc7",
   "metadata": {
    "hidden": true
   },
   "outputs": [
    {
     "data": {
      "text/plain": [
       "Ttest_indResult(statistic=95.60271449148823, pvalue=0.0)"
      ]
     },
     "execution_count": 52,
     "metadata": {},
     "output_type": "execute_result"
    }
   ],
   "source": [
    "ttest_ind(height_men,height_women)"
   ]
  },
  {
   "cell_type": "code",
   "execution_count": 54,
   "id": "26f537fb",
   "metadata": {
    "hidden": true
   },
   "outputs": [
    {
     "data": {
      "text/plain": [
       "8.19884325252049"
      ]
     },
     "execution_count": 54,
     "metadata": {},
     "output_type": "execute_result"
    }
   ],
   "source": [
    "height_men.var()"
   ]
  },
  {
   "cell_type": "code",
   "execution_count": 53,
   "id": "fbb971ff",
   "metadata": {
    "hidden": true
   },
   "outputs": [
    {
     "data": {
      "text/plain": [
       "7.269947493670132"
      ]
     },
     "execution_count": 53,
     "metadata": {},
     "output_type": "execute_result"
    }
   ],
   "source": [
    "height_women.var()"
   ]
  },
  {
   "cell_type": "code",
   "execution_count": 56,
   "id": "9fa07d67",
   "metadata": {
    "hidden": true
   },
   "outputs": [
    {
     "name": "stdout",
     "output_type": "stream",
     "text": [
      "x_stat :  12.284910854677701\n",
      "p_value :  0.0004586349895436178\n",
      "Interpretation : Reject Ho\n",
      "Conclusion : Variances are NOT Equal\n"
     ]
    }
   ],
   "source": [
    "# Ho : Variances are Equal\n",
    "# Ha : Variances are NOT Equal\n",
    "x_stat,p_value=levene(height_men,height_women)\n",
    "print(\"x_stat : \",x_stat)\n",
    "print(\"p_value : \",p_value)\n",
    "alpha = 0.05\n",
    "if p_value< alpha:\n",
    "    print(\"Interpretation : Reject Ho\")\n",
    "    print(\"Conclusion : Variances are NOT Equal\")\n",
    "else:\n",
    "    print(\"Interpretation : Fail to Reject Ho\")\n",
    "    print(\"Conclusion : Variances are Equal\")"
   ]
  },
  {
   "cell_type": "code",
   "execution_count": null,
   "id": "b77188ae",
   "metadata": {
    "hidden": true
   },
   "outputs": [],
   "source": []
  },
  {
   "cell_type": "markdown",
   "id": "c6391eb4",
   "metadata": {
    "heading_collapsed": true
   },
   "source": [
    "# Wilkin Shapiro Test"
   ]
  },
  {
   "cell_type": "markdown",
   "id": "81b87b9e",
   "metadata": {
    "hidden": true
   },
   "source": [
    "Take a few samples generally [50-200]\n",
    "\n",
    "\n",
    "The test may not work if data points are <50 or Greater >200"
   ]
  },
  {
   "cell_type": "code",
   "execution_count": 57,
   "id": "f783c12d",
   "metadata": {
    "hidden": true
   },
   "outputs": [
    {
     "data": {
      "text/plain": [
       "3736    71.415165\n",
       "9496    62.527229\n",
       "6374    60.870586\n",
       "2445    66.446420\n",
       "1954    76.116675\n",
       "          ...    \n",
       "7162    72.429771\n",
       "3833    62.202789\n",
       "2650    71.910912\n",
       "3974    72.286541\n",
       "9710    68.107087\n",
       "Name: Height, Length: 100, dtype: float64"
      ]
     },
     "execution_count": 57,
     "metadata": {},
     "output_type": "execute_result"
    }
   ],
   "source": [
    "height_sample=df1[\"Height\"].sample(100)\n",
    "height_sample"
   ]
  },
  {
   "cell_type": "code",
   "execution_count": 59,
   "id": "33f3d54c",
   "metadata": {
    "hidden": true
   },
   "outputs": [
    {
     "data": {
      "text/plain": [
       "ShapiroResult(statistic=0.9774994254112244, pvalue=0.08472525328397751)"
      ]
     },
     "execution_count": 59,
     "metadata": {},
     "output_type": "execute_result"
    }
   ],
   "source": [
    "# Ho : Data is Gaussian\n",
    "# Ha : Data is NOT Gaussian\n",
    "shapiro(height_sample)"
   ]
  },
  {
   "cell_type": "code",
   "execution_count": 60,
   "id": "45a92750",
   "metadata": {
    "hidden": true
   },
   "outputs": [
    {
     "data": {
      "text/plain": [
       "<seaborn.axisgrid.FacetGrid at 0x7f9273a55250>"
      ]
     },
     "execution_count": 60,
     "metadata": {},
     "output_type": "execute_result"
    },
    {
     "data": {
      "image/png": "[encoded data removed]",
      "text/plain": [
       "<Figure size 360x360 with 1 Axes>"
      ]
     },
     "metadata": {
      "needs_background": "light"
     },
     "output_type": "display_data"
    }
   ],
   "source": [
    "sns.displot(df1[\"Height\"],kde=True)"
   ]
  },
  {
   "cell_type": "code",
   "execution_count": 62,
   "id": "6462e93b",
   "metadata": {
    "hidden": true
   },
   "outputs": [
    {
     "data": {
      "text/plain": [
       "<AxesSubplot:xlabel='Height', ylabel='Density'>"
      ]
     },
     "execution_count": 62,
     "metadata": {},
     "output_type": "execute_result"
    },
    {
     "data": {
      "image/png": "[encoded data removed]",
      "text/plain": [
       "<Figure size 432x288 with 1 Axes>"
      ]
     },
     "metadata": {
      "needs_background": "light"
     },
     "output_type": "display_data"
    }
   ],
   "source": [
    "sns.kdeplot(df1[\"Height\"])"
   ]
  },
  {
   "cell_type": "code",
   "execution_count": null,
   "id": "3056889c",
   "metadata": {
    "hidden": true
   },
   "outputs": [],
   "source": []
  },
  {
   "cell_type": "markdown",
   "id": "fb4fb6bd",
   "metadata": {},
   "source": [
    "# Doubts"
   ]
  },
  {
   "cell_type": "code",
   "execution_count": 67,
   "id": "78bcaf66",
   "metadata": {},
   "outputs": [],
   "source": [
    "a = np.array([80,75,82,85,90,82])\n",
    "b = np.array([57,50,60,65,64,67])\n",
    "c = np.array([69,71,72,73,66,77])"
   ]
  },
  {
   "cell_type": "code",
   "execution_count": 68,
   "id": "caa316f8",
   "metadata": {},
   "outputs": [
    {
     "data": {
      "text/plain": [
       "82.33333333333333"
      ]
     },
     "execution_count": 68,
     "metadata": {},
     "output_type": "execute_result"
    }
   ],
   "source": [
    "a.mean()"
   ]
  },
  {
   "cell_type": "code",
   "execution_count": 69,
   "id": "d011b912",
   "metadata": {},
   "outputs": [
    {
     "data": {
      "text/plain": [
       "60.5"
      ]
     },
     "execution_count": 69,
     "metadata": {},
     "output_type": "execute_result"
    }
   ],
   "source": [
    "b.mean()"
   ]
  },
  {
   "cell_type": "code",
   "execution_count": 70,
   "id": "1faa2216",
   "metadata": {},
   "outputs": [
    {
     "data": {
      "text/plain": [
       "71.33333333333333"
      ]
     },
     "execution_count": 70,
     "metadata": {},
     "output_type": "execute_result"
    }
   ],
   "source": [
    "c.mean()"
   ]
  },
  {
   "cell_type": "code",
   "execution_count": 72,
   "id": "67f30d53",
   "metadata": {},
   "outputs": [
    {
     "data": {
      "text/plain": [
       "<AxesSubplot:ylabel='Density'>"
      ]
     },
     "execution_count": 72,
     "metadata": {},
     "output_type": "execute_result"
    },
    {
     "data": {
      "image/png": "[encoded data removed]",
      "text/plain": [
       "<Figure size 432x288 with 1 Axes>"
      ]
     },
     "metadata": {
      "needs_background": "light"
     },
     "output_type": "display_data"
    }
   ],
   "source": [
    "sns.kdeplot(a)\n",
    "sns.kdeplot(b)\n",
    "sns.kdeplot(c)"
   ]
  },
  {
   "cell_type": "code",
   "execution_count": null,
   "id": "a4818753",
   "metadata": {},
   "outputs": [],
   "source": [
    "a = np.array([80,75,82,85,90,82])\n",
    "b = np.array([57,50,60,65,64,67])\n",
    "c = np.array([69,71,72,73,66,77])"
   ]
  },
  {
   "cell_type": "code",
   "execution_count": 73,
   "id": "14c79a1e",
   "metadata": {},
   "outputs": [],
   "source": [
    "a1 = np.array([80,75,72,73,64,67])\n",
    "b1 = np.array([57,50,82,85,66,77])\n",
    "c1 = np.array([69,71,60,65,90,82])"
   ]
  },
  {
   "cell_type": "code",
   "execution_count": 75,
   "id": "358d3398",
   "metadata": {},
   "outputs": [
    {
     "name": "stdout",
     "output_type": "stream",
     "text": [
      "71.83333333333333\n",
      "69.5\n",
      "72.83333333333333\n"
     ]
    }
   ],
   "source": [
    "print(a1.mean())\n",
    "print(b1.mean())\n",
    "print(c1.mean())"
   ]
  },
  {
   "cell_type": "code",
   "execution_count": 76,
   "id": "d379370f",
   "metadata": {},
   "outputs": [
    {
     "data": {
      "text/plain": [
       "<AxesSubplot:ylabel='Density'>"
      ]
     },
     "execution_count": 76,
     "metadata": {},
     "output_type": "execute_result"
    },
    {
     "data": {
      "image/png": "[encoded data removed]",
      "text/plain": [
       "<Figure size 432x288 with 1 Axes>"
      ]
     },
     "metadata": {
      "needs_background": "light"
     },
     "output_type": "display_data"
    }
   ],
   "source": [
    "sns.kdeplot(a1)\n",
    "sns.kdeplot(b1)\n",
    "sns.kdeplot(c1)"
   ]
  },
  {
   "cell_type": "code",
   "execution_count": null,
   "id": "8a2e8ceb",
   "metadata": {},
   "outputs": [],
   "source": []
  },
  {
   "cell_type": "code",
   "execution_count": null,
   "id": "7d6329f2",
   "metadata": {},
   "outputs": [],
   "source": []
  },
  {
   "cell_type": "code",
   "execution_count": null,
   "id": "6e1d1cb4",
   "metadata": {},
   "outputs": [],
   "source": []
  },
  {
   "cell_type": "code",
   "execution_count": null,
   "id": "96fe09b1",
   "metadata": {},
   "outputs": [],
   "source": []
  },
  {
   "cell_type": "code",
   "execution_count": null,
   "id": "d5ba03cd",
   "metadata": {},
   "outputs": [],
   "source": []
  },
  {
   "cell_type": "code",
   "execution_count": null,
   "id": "c42fd1da",
   "metadata": {},
   "outputs": [],
   "source": []
  },
  {
   "cell_type": "code",
   "execution_count": null,
   "id": "e47997da",
   "metadata": {},
   "outputs": [],
   "source": []
  },
  {
   "cell_type": "code",
   "execution_count": null,
   "id": "41d33c62",
   "metadata": {},
   "outputs": [],
   "source": []
  },
  {
   "cell_type": "code",
   "execution_count": null,
   "id": "a7a4b327",
   "metadata": {},
   "outputs": [],
   "source": []
  },
  {
   "cell_type": "code",
   "execution_count": null,
   "id": "62938257",
   "metadata": {},
   "outputs": [],
   "source": []
  }
 ],
 "metadata": {
  "kernelspec": {
   "display_name": "Python 3 (ipykernel)",
   "language": "python",
   "name": "python3"
  },
  "language_info": {
   "codemirror_mode": {
    "name": "ipython",
    "version": 3
   },
   "file_extension": ".py",
   "mimetype": "text/x-python",
   "name": "python",
   "nbconvert_exporter": "python",
   "pygments_lexer": "ipython3",
   "version": "3.9.7"
  },
  "varInspector": {
   "cols": {
    "lenName": 16,
    "lenType": 16,
    "lenVar": 40
   },
   "kernels_config": {
    "python": {
     "delete_cmd_postfix": "",
     "delete_cmd_prefix": "del ",
     "library": "var_list.py",
     "varRefreshCmd": "print(var_dic_list())"
    },
    "r": {
     "delete_cmd_postfix": ") ",
     "delete_cmd_prefix": "rm(",
     "library": "var_list.r",
     "varRefreshCmd": "cat(var_dic_list()) "
    }
   },
   "types_to_exclude": [
    "module",
    "function",
    "builtin_function_or_method",
    "instance",
    "_Feature"
   ],
   "window_display": false
  }
 },
 "nbformat": 4,
 "nbformat_minor": 5
}
