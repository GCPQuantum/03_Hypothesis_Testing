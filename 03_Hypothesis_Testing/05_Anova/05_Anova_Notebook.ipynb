{
 "cells": [
  {
   "cell_type": "markdown",
   "id": "7a6f0456",
   "metadata": {
    "heading_collapsed": true
   },
   "source": [
    "# Importing Libraries"
   ]
  },
  {
   "cell_type": "code",
   "execution_count": 2,
   "id": "faafcbb1",
   "metadata": {
    "hidden": true
   },
   "outputs": [],
   "source": [
    "import numpy as np\n",
    "import pandas as pd\n",
    "import seaborn as sns\n",
    "import matplotlib.pyplot as plt"
   ]
  },
  {
   "cell_type": "code",
   "execution_count": 3,
   "id": "fe8b9f28",
   "metadata": {
    "hidden": true
   },
   "outputs": [],
   "source": [
    "from scipy.stats import chi2 # Distribution (cdf etc.)\n",
    "from scipy.stats import chisquare # Statistical test (chistat, pvalue)\n",
    "from scipy.stats import chi2_contingency # Categorical Vs Categorical\n",
    "from scipy.stats import ttest_rel,ttest_1samp\n",
    "from scipy.stats import binom,t"
   ]
  },
  {
   "cell_type": "markdown",
   "id": "f2fc0b9d",
   "metadata": {
    "heading_collapsed": true
   },
   "source": [
    "# Chi Square Test ( Test of independance)"
   ]
  },
  {
   "cell_type": "code",
   "execution_count": 6,
   "id": "dc333deb",
   "metadata": {
    "hidden": true
   },
   "outputs": [
    {
     "name": "stdout",
     "output_type": "stream",
     "text": [
      "chi_stat :  57.04098674049609\n",
      "p_value :  4.268230756875865e-14\n",
      "dof :  1\n",
      "expected :  [[484.08710033 114.91289967]\n",
      " [248.91289967  59.08710033]]\n",
      "Interpretation : Reject Ho\n",
      "Conclusion : Gender Affects the buying pattern\n"
     ]
    }
   ],
   "source": [
    "# Ho : Gender Doesn't affect( Independant)\n",
    "# Ha : Gender Affect( Dependant)\n",
    "observed =[[527,72],[206,102]]\n",
    "chi_stat,p_value,dof,expected=chi2_contingency(observed)\n",
    "print(\"chi_stat : \",chi_stat)\n",
    "print(\"p_value : \",p_value)\n",
    "print(\"dof : \",dof)\n",
    "print(\"expected : \",expected)\n",
    "alpha = 0.05\n",
    "if p_value< alpha:\n",
    "    print(\"Interpretation : Reject Ho\")\n",
    "    print(\"Conclusion : Gender Affects the buying pattern\")\n",
    "else:\n",
    "    print(\"Interpretation : Fail to Reject Ho\")"
   ]
  },
  {
   "cell_type": "markdown",
   "id": "0b689598",
   "metadata": {},
   "source": [
    "# Aerofit"
   ]
  },
  {
   "cell_type": "code",
   "execution_count": 44,
   "id": "b0176f90",
   "metadata": {},
   "outputs": [
    {
     "data": {
      "text/html": [
       "<div>\n",
       "<style scoped>\n",
       "    .dataframe tbody tr th:only-of-type {\n",
       "        vertical-align: middle;\n",
       "    }\n",
       "\n",
       "    .dataframe tbody tr th {\n",
       "        vertical-align: top;\n",
       "    }\n",
       "\n",
       "    .dataframe thead th {\n",
       "        text-align: right;\n",
       "    }\n",
       "</style>\n",
       "<table border=\"1\" class=\"dataframe\">\n",
       "  <thead>\n",
       "    <tr style=\"text-align: right;\">\n",
       "      <th></th>\n",
       "      <th>Product</th>\n",
       "      <th>Age</th>\n",
       "      <th>Gender</th>\n",
       "      <th>Education</th>\n",
       "      <th>MaritalStatus</th>\n",
       "      <th>Usage</th>\n",
       "      <th>Fitness</th>\n",
       "      <th>Income</th>\n",
       "      <th>Miles</th>\n",
       "    </tr>\n",
       "  </thead>\n",
       "  <tbody>\n",
       "    <tr>\n",
       "      <th>0</th>\n",
       "      <td>KP281</td>\n",
       "      <td>18</td>\n",
       "      <td>Male</td>\n",
       "      <td>14</td>\n",
       "      <td>Single</td>\n",
       "      <td>3</td>\n",
       "      <td>4</td>\n",
       "      <td>29562</td>\n",
       "      <td>112</td>\n",
       "    </tr>\n",
       "    <tr>\n",
       "      <th>1</th>\n",
       "      <td>KP281</td>\n",
       "      <td>19</td>\n",
       "      <td>Male</td>\n",
       "      <td>15</td>\n",
       "      <td>Single</td>\n",
       "      <td>2</td>\n",
       "      <td>3</td>\n",
       "      <td>31836</td>\n",
       "      <td>75</td>\n",
       "    </tr>\n",
       "    <tr>\n",
       "      <th>2</th>\n",
       "      <td>KP281</td>\n",
       "      <td>19</td>\n",
       "      <td>Female</td>\n",
       "      <td>14</td>\n",
       "      <td>Partnered</td>\n",
       "      <td>4</td>\n",
       "      <td>3</td>\n",
       "      <td>30699</td>\n",
       "      <td>66</td>\n",
       "    </tr>\n",
       "    <tr>\n",
       "      <th>3</th>\n",
       "      <td>KP281</td>\n",
       "      <td>19</td>\n",
       "      <td>Male</td>\n",
       "      <td>12</td>\n",
       "      <td>Single</td>\n",
       "      <td>3</td>\n",
       "      <td>3</td>\n",
       "      <td>32973</td>\n",
       "      <td>85</td>\n",
       "    </tr>\n",
       "    <tr>\n",
       "      <th>4</th>\n",
       "      <td>KP281</td>\n",
       "      <td>20</td>\n",
       "      <td>Male</td>\n",
       "      <td>13</td>\n",
       "      <td>Partnered</td>\n",
       "      <td>4</td>\n",
       "      <td>2</td>\n",
       "      <td>35247</td>\n",
       "      <td>47</td>\n",
       "    </tr>\n",
       "    <tr>\n",
       "      <th>...</th>\n",
       "      <td>...</td>\n",
       "      <td>...</td>\n",
       "      <td>...</td>\n",
       "      <td>...</td>\n",
       "      <td>...</td>\n",
       "      <td>...</td>\n",
       "      <td>...</td>\n",
       "      <td>...</td>\n",
       "      <td>...</td>\n",
       "    </tr>\n",
       "    <tr>\n",
       "      <th>175</th>\n",
       "      <td>KP781</td>\n",
       "      <td>40</td>\n",
       "      <td>Male</td>\n",
       "      <td>21</td>\n",
       "      <td>Single</td>\n",
       "      <td>6</td>\n",
       "      <td>5</td>\n",
       "      <td>83416</td>\n",
       "      <td>200</td>\n",
       "    </tr>\n",
       "    <tr>\n",
       "      <th>176</th>\n",
       "      <td>KP781</td>\n",
       "      <td>42</td>\n",
       "      <td>Male</td>\n",
       "      <td>18</td>\n",
       "      <td>Single</td>\n",
       "      <td>5</td>\n",
       "      <td>4</td>\n",
       "      <td>89641</td>\n",
       "      <td>200</td>\n",
       "    </tr>\n",
       "    <tr>\n",
       "      <th>177</th>\n",
       "      <td>KP781</td>\n",
       "      <td>45</td>\n",
       "      <td>Male</td>\n",
       "      <td>16</td>\n",
       "      <td>Single</td>\n",
       "      <td>5</td>\n",
       "      <td>5</td>\n",
       "      <td>90886</td>\n",
       "      <td>160</td>\n",
       "    </tr>\n",
       "    <tr>\n",
       "      <th>178</th>\n",
       "      <td>KP781</td>\n",
       "      <td>47</td>\n",
       "      <td>Male</td>\n",
       "      <td>18</td>\n",
       "      <td>Partnered</td>\n",
       "      <td>4</td>\n",
       "      <td>5</td>\n",
       "      <td>104581</td>\n",
       "      <td>120</td>\n",
       "    </tr>\n",
       "    <tr>\n",
       "      <th>179</th>\n",
       "      <td>KP781</td>\n",
       "      <td>48</td>\n",
       "      <td>Male</td>\n",
       "      <td>18</td>\n",
       "      <td>Partnered</td>\n",
       "      <td>4</td>\n",
       "      <td>5</td>\n",
       "      <td>95508</td>\n",
       "      <td>180</td>\n",
       "    </tr>\n",
       "  </tbody>\n",
       "</table>\n",
       "<p>180 rows × 9 columns</p>\n",
       "</div>"
      ],
      "text/plain": [
       "    Product  Age  Gender  Education MaritalStatus  Usage  Fitness  Income  \\\n",
       "0     KP281   18    Male         14        Single      3        4   29562   \n",
       "1     KP281   19    Male         15        Single      2        3   31836   \n",
       "2     KP281   19  Female         14     Partnered      4        3   30699   \n",
       "3     KP281   19    Male         12        Single      3        3   32973   \n",
       "4     KP281   20    Male         13     Partnered      4        2   35247   \n",
       "..      ...  ...     ...        ...           ...    ...      ...     ...   \n",
       "175   KP781   40    Male         21        Single      6        5   83416   \n",
       "176   KP781   42    Male         18        Single      5        4   89641   \n",
       "177   KP781   45    Male         16        Single      5        5   90886   \n",
       "178   KP781   47    Male         18     Partnered      4        5  104581   \n",
       "179   KP781   48    Male         18     Partnered      4        5   95508   \n",
       "\n",
       "     Miles  \n",
       "0      112  \n",
       "1       75  \n",
       "2       66  \n",
       "3       85  \n",
       "4       47  \n",
       "..     ...  \n",
       "175    200  \n",
       "176    200  \n",
       "177    160  \n",
       "178    120  \n",
       "179    180  \n",
       "\n",
       "[180 rows x 9 columns]"
      ]
     },
     "execution_count": 44,
     "metadata": {},
     "output_type": "execute_result"
    }
   ],
   "source": [
    "df=pd.read_csv(\"aerofit.csv\")\n",
    "df"
   ]
  },
  {
   "cell_type": "markdown",
   "id": "2ec82efa",
   "metadata": {
    "heading_collapsed": true
   },
   "source": [
    "## Gender Vs Product"
   ]
  },
  {
   "cell_type": "code",
   "execution_count": null,
   "id": "6a59fc15",
   "metadata": {
    "hidden": true
   },
   "outputs": [],
   "source": []
  },
  {
   "cell_type": "code",
   "execution_count": 30,
   "id": "02db68fa",
   "metadata": {
    "hidden": true
   },
   "outputs": [
    {
     "data": {
      "text/html": [
       "<div>\n",
       "<style scoped>\n",
       "    .dataframe tbody tr th:only-of-type {\n",
       "        vertical-align: middle;\n",
       "    }\n",
       "\n",
       "    .dataframe tbody tr th {\n",
       "        vertical-align: top;\n",
       "    }\n",
       "\n",
       "    .dataframe thead th {\n",
       "        text-align: right;\n",
       "    }\n",
       "</style>\n",
       "<table border=\"1\" class=\"dataframe\">\n",
       "  <thead>\n",
       "    <tr style=\"text-align: right;\">\n",
       "      <th>Product</th>\n",
       "      <th>KP281</th>\n",
       "      <th>KP481</th>\n",
       "      <th>KP781</th>\n",
       "    </tr>\n",
       "    <tr>\n",
       "      <th>Gender</th>\n",
       "      <th></th>\n",
       "      <th></th>\n",
       "      <th></th>\n",
       "    </tr>\n",
       "  </thead>\n",
       "  <tbody>\n",
       "    <tr>\n",
       "      <th>Female</th>\n",
       "      <td>40</td>\n",
       "      <td>29</td>\n",
       "      <td>7</td>\n",
       "    </tr>\n",
       "    <tr>\n",
       "      <th>Male</th>\n",
       "      <td>40</td>\n",
       "      <td>31</td>\n",
       "      <td>33</td>\n",
       "    </tr>\n",
       "  </tbody>\n",
       "</table>\n",
       "</div>"
      ],
      "text/plain": [
       "Product  KP281  KP481  KP781\n",
       "Gender                      \n",
       "Female      40     29      7\n",
       "Male        40     31     33"
      ]
     },
     "execution_count": 30,
     "metadata": {},
     "output_type": "execute_result"
    }
   ],
   "source": [
    "gender_product=pd.crosstab(columns=df[\"Product\"],index=df[\"Gender\"])\n",
    "gender_product"
   ]
  },
  {
   "cell_type": "code",
   "execution_count": 31,
   "id": "3be56110",
   "metadata": {
    "hidden": true
   },
   "outputs": [
    {
     "name": "stdout",
     "output_type": "stream",
     "text": [
      "chi_stat :  12.923836032388664\n",
      "p_value :  0.0015617972833158714\n",
      "dof :  2\n",
      "expected_freq :  [[33.77777778 25.33333333 16.88888889]\n",
      " [46.22222222 34.66666667 23.11111111]]\n",
      "Interpretation : Reject Ho\n"
     ]
    }
   ],
   "source": [
    "# Ho : Gender Doesnt affect ( independant)\n",
    "# Ha : Gender Affects buying pattern ( dependant)\n",
    "\n",
    "\n",
    "chi_stat,p_value,dof,expected_freq=chi2_contingency(gender_product)\n",
    "print(\"chi_stat : \",chi_stat)\n",
    "print(\"p_value : \",p_value)\n",
    "print(\"dof : \",dof)\n",
    "print(\"expected_freq : \",expected_freq)\n",
    "alpha = 0.05\n",
    "if p_value <alpha :\n",
    "    print(\"Interpretation : Reject Ho\")\n",
    "else:\n",
    "    print(\"Interpretation : Fail to Reject Ho\")"
   ]
  },
  {
   "cell_type": "markdown",
   "id": "e74c9462",
   "metadata": {},
   "source": [
    "## product vs Income"
   ]
  },
  {
   "cell_type": "code",
   "execution_count": 32,
   "id": "3d6b7c14",
   "metadata": {},
   "outputs": [
    {
     "data": {
      "text/plain": [
       "<AxesSubplot:xlabel='Product', ylabel='Income'>"
      ]
     },
     "execution_count": 32,
     "metadata": {},
     "output_type": "execute_result"
    },
    {
     "data": {
      "image/png": "[encoded data removed]",
      "text/plain": [
       "<Figure size 432x288 with 1 Axes>"
      ]
     },
     "metadata": {
      "needs_background": "light"
     },
     "output_type": "display_data"
    }
   ],
   "source": [
    "sns.boxplot(x=df[\"Product\"],y=df[\"Income\"])"
   ]
  },
  {
   "cell_type": "code",
   "execution_count": 33,
   "id": "21f807e3",
   "metadata": {},
   "outputs": [
    {
     "data": {
      "text/html": [
       "<div>\n",
       "<style scoped>\n",
       "    .dataframe tbody tr th:only-of-type {\n",
       "        vertical-align: middle;\n",
       "    }\n",
       "\n",
       "    .dataframe tbody tr th {\n",
       "        vertical-align: top;\n",
       "    }\n",
       "\n",
       "    .dataframe thead th {\n",
       "        text-align: right;\n",
       "    }\n",
       "</style>\n",
       "<table border=\"1\" class=\"dataframe\">\n",
       "  <thead>\n",
       "    <tr style=\"text-align: right;\">\n",
       "      <th></th>\n",
       "      <th>Product</th>\n",
       "      <th>Age</th>\n",
       "      <th>Gender</th>\n",
       "      <th>Education</th>\n",
       "      <th>MaritalStatus</th>\n",
       "      <th>Usage</th>\n",
       "      <th>Fitness</th>\n",
       "      <th>Income</th>\n",
       "      <th>Miles</th>\n",
       "      <th>income_bin</th>\n",
       "    </tr>\n",
       "  </thead>\n",
       "  <tbody>\n",
       "    <tr>\n",
       "      <th>0</th>\n",
       "      <td>KP281</td>\n",
       "      <td>18</td>\n",
       "      <td>Male</td>\n",
       "      <td>14</td>\n",
       "      <td>Single</td>\n",
       "      <td>3</td>\n",
       "      <td>4</td>\n",
       "      <td>29562</td>\n",
       "      <td>112</td>\n",
       "      <td>low</td>\n",
       "    </tr>\n",
       "    <tr>\n",
       "      <th>1</th>\n",
       "      <td>KP281</td>\n",
       "      <td>19</td>\n",
       "      <td>Male</td>\n",
       "      <td>15</td>\n",
       "      <td>Single</td>\n",
       "      <td>2</td>\n",
       "      <td>3</td>\n",
       "      <td>31836</td>\n",
       "      <td>75</td>\n",
       "      <td>low</td>\n",
       "    </tr>\n",
       "    <tr>\n",
       "      <th>2</th>\n",
       "      <td>KP281</td>\n",
       "      <td>19</td>\n",
       "      <td>Female</td>\n",
       "      <td>14</td>\n",
       "      <td>Partnered</td>\n",
       "      <td>4</td>\n",
       "      <td>3</td>\n",
       "      <td>30699</td>\n",
       "      <td>66</td>\n",
       "      <td>low</td>\n",
       "    </tr>\n",
       "    <tr>\n",
       "      <th>3</th>\n",
       "      <td>KP281</td>\n",
       "      <td>19</td>\n",
       "      <td>Male</td>\n",
       "      <td>12</td>\n",
       "      <td>Single</td>\n",
       "      <td>3</td>\n",
       "      <td>3</td>\n",
       "      <td>32973</td>\n",
       "      <td>85</td>\n",
       "      <td>low</td>\n",
       "    </tr>\n",
       "    <tr>\n",
       "      <th>4</th>\n",
       "      <td>KP281</td>\n",
       "      <td>20</td>\n",
       "      <td>Male</td>\n",
       "      <td>13</td>\n",
       "      <td>Partnered</td>\n",
       "      <td>4</td>\n",
       "      <td>2</td>\n",
       "      <td>35247</td>\n",
       "      <td>47</td>\n",
       "      <td>low</td>\n",
       "    </tr>\n",
       "    <tr>\n",
       "      <th>...</th>\n",
       "      <td>...</td>\n",
       "      <td>...</td>\n",
       "      <td>...</td>\n",
       "      <td>...</td>\n",
       "      <td>...</td>\n",
       "      <td>...</td>\n",
       "      <td>...</td>\n",
       "      <td>...</td>\n",
       "      <td>...</td>\n",
       "      <td>...</td>\n",
       "    </tr>\n",
       "    <tr>\n",
       "      <th>175</th>\n",
       "      <td>KP781</td>\n",
       "      <td>40</td>\n",
       "      <td>Male</td>\n",
       "      <td>21</td>\n",
       "      <td>Single</td>\n",
       "      <td>6</td>\n",
       "      <td>5</td>\n",
       "      <td>83416</td>\n",
       "      <td>200</td>\n",
       "      <td>high</td>\n",
       "    </tr>\n",
       "    <tr>\n",
       "      <th>176</th>\n",
       "      <td>KP781</td>\n",
       "      <td>42</td>\n",
       "      <td>Male</td>\n",
       "      <td>18</td>\n",
       "      <td>Single</td>\n",
       "      <td>5</td>\n",
       "      <td>4</td>\n",
       "      <td>89641</td>\n",
       "      <td>200</td>\n",
       "      <td>high</td>\n",
       "    </tr>\n",
       "    <tr>\n",
       "      <th>177</th>\n",
       "      <td>KP781</td>\n",
       "      <td>45</td>\n",
       "      <td>Male</td>\n",
       "      <td>16</td>\n",
       "      <td>Single</td>\n",
       "      <td>5</td>\n",
       "      <td>5</td>\n",
       "      <td>90886</td>\n",
       "      <td>160</td>\n",
       "      <td>high</td>\n",
       "    </tr>\n",
       "    <tr>\n",
       "      <th>178</th>\n",
       "      <td>KP781</td>\n",
       "      <td>47</td>\n",
       "      <td>Male</td>\n",
       "      <td>18</td>\n",
       "      <td>Partnered</td>\n",
       "      <td>4</td>\n",
       "      <td>5</td>\n",
       "      <td>104581</td>\n",
       "      <td>120</td>\n",
       "      <td>high</td>\n",
       "    </tr>\n",
       "    <tr>\n",
       "      <th>179</th>\n",
       "      <td>KP781</td>\n",
       "      <td>48</td>\n",
       "      <td>Male</td>\n",
       "      <td>18</td>\n",
       "      <td>Partnered</td>\n",
       "      <td>4</td>\n",
       "      <td>5</td>\n",
       "      <td>95508</td>\n",
       "      <td>180</td>\n",
       "      <td>high</td>\n",
       "    </tr>\n",
       "  </tbody>\n",
       "</table>\n",
       "<p>180 rows × 10 columns</p>\n",
       "</div>"
      ],
      "text/plain": [
       "    Product  Age  Gender  Education MaritalStatus  Usage  Fitness  Income  \\\n",
       "0     KP281   18    Male         14        Single      3        4   29562   \n",
       "1     KP281   19    Male         15        Single      2        3   31836   \n",
       "2     KP281   19  Female         14     Partnered      4        3   30699   \n",
       "3     KP281   19    Male         12        Single      3        3   32973   \n",
       "4     KP281   20    Male         13     Partnered      4        2   35247   \n",
       "..      ...  ...     ...        ...           ...    ...      ...     ...   \n",
       "175   KP781   40    Male         21        Single      6        5   83416   \n",
       "176   KP781   42    Male         18        Single      5        4   89641   \n",
       "177   KP781   45    Male         16        Single      5        5   90886   \n",
       "178   KP781   47    Male         18     Partnered      4        5  104581   \n",
       "179   KP781   48    Male         18     Partnered      4        5   95508   \n",
       "\n",
       "     Miles income_bin  \n",
       "0      112        low  \n",
       "1       75        low  \n",
       "2       66        low  \n",
       "3       85        low  \n",
       "4       47        low  \n",
       "..     ...        ...  \n",
       "175    200       high  \n",
       "176    200       high  \n",
       "177    160       high  \n",
       "178    120       high  \n",
       "179    180       high  \n",
       "\n",
       "[180 rows x 10 columns]"
      ]
     },
     "execution_count": 33,
     "metadata": {},
     "output_type": "execute_result"
    }
   ],
   "source": [
    "bins= [0 , df[\"Income\"].median(),df[\"Income\"].max()]\n",
    "labels = [\"low\",\"high\"]\n",
    "df[\"income_bin\"]=pd.cut(x=df[\"Income\"],bins=bins, labels=labels)\n",
    "df"
   ]
  },
  {
   "cell_type": "code",
   "execution_count": 37,
   "id": "2fdeeb14",
   "metadata": {},
   "outputs": [
    {
     "data": {
      "text/html": [
       "<div>\n",
       "<style scoped>\n",
       "    .dataframe tbody tr th:only-of-type {\n",
       "        vertical-align: middle;\n",
       "    }\n",
       "\n",
       "    .dataframe tbody tr th {\n",
       "        vertical-align: top;\n",
       "    }\n",
       "\n",
       "    .dataframe thead th {\n",
       "        text-align: right;\n",
       "    }\n",
       "</style>\n",
       "<table border=\"1\" class=\"dataframe\">\n",
       "  <thead>\n",
       "    <tr style=\"text-align: right;\">\n",
       "      <th>Product</th>\n",
       "      <th>KP281</th>\n",
       "      <th>KP481</th>\n",
       "      <th>KP781</th>\n",
       "      <th>All</th>\n",
       "    </tr>\n",
       "    <tr>\n",
       "      <th>income_bin</th>\n",
       "      <th></th>\n",
       "      <th></th>\n",
       "      <th></th>\n",
       "      <th></th>\n",
       "    </tr>\n",
       "  </thead>\n",
       "  <tbody>\n",
       "    <tr>\n",
       "      <th>low</th>\n",
       "      <td>50</td>\n",
       "      <td>35</td>\n",
       "      <td>5</td>\n",
       "      <td>90</td>\n",
       "    </tr>\n",
       "    <tr>\n",
       "      <th>high</th>\n",
       "      <td>30</td>\n",
       "      <td>25</td>\n",
       "      <td>35</td>\n",
       "      <td>90</td>\n",
       "    </tr>\n",
       "    <tr>\n",
       "      <th>All</th>\n",
       "      <td>80</td>\n",
       "      <td>60</td>\n",
       "      <td>40</td>\n",
       "      <td>180</td>\n",
       "    </tr>\n",
       "  </tbody>\n",
       "</table>\n",
       "</div>"
      ],
      "text/plain": [
       "Product     KP281  KP481  KP781  All\n",
       "income_bin                          \n",
       "low            50     35      5   90\n",
       "high           30     25     35   90\n",
       "All            80     60     40  180"
      ]
     },
     "execution_count": 37,
     "metadata": {},
     "output_type": "execute_result"
    }
   ],
   "source": [
    "income_product=pd.crosstab(columns=df[\"Product\"],index=df[\"income_bin\"],margins=True)\n",
    "income_product"
   ]
  },
  {
   "cell_type": "code",
   "execution_count": 36,
   "id": "327c46c5",
   "metadata": {},
   "outputs": [
    {
     "name": "stdout",
     "output_type": "stream",
     "text": [
      "chi_stat :  29.166666666666668\n",
      "p_value :  4.640222499769401e-07\n",
      "dof :  2\n",
      "expected_freq :  [[40. 30. 20.]\n",
      " [40. 30. 20.]]\n",
      "Interpretation : Reject Ho\n"
     ]
    }
   ],
   "source": [
    "# Ho : Income Doesnt affect ( independant)\n",
    "# Ha : Income Affects buying pattern ( dependant)\n",
    "\n",
    "\n",
    "chi_stat,p_value,dof,expected_freq=chi2_contingency(income_product)\n",
    "print(\"chi_stat : \",chi_stat)\n",
    "print(\"p_value : \",p_value)\n",
    "print(\"dof : \",dof)\n",
    "print(\"expected_freq : \",expected_freq)\n",
    "alpha = 0.05\n",
    "if p_value <alpha :\n",
    "    print(\"Interpretation : Reject Ho\")\n",
    "else:\n",
    "    print(\"Interpretation : Fail to Reject Ho\")"
   ]
  },
  {
   "cell_type": "markdown",
   "id": "9400acea",
   "metadata": {},
   "source": [
    "## Gender vs Income"
   ]
  },
  {
   "cell_type": "code",
   "execution_count": 40,
   "id": "a5c0d3ee",
   "metadata": {},
   "outputs": [
    {
     "data": {
      "text/html": [
       "<div>\n",
       "<style scoped>\n",
       "    .dataframe tbody tr th:only-of-type {\n",
       "        vertical-align: middle;\n",
       "    }\n",
       "\n",
       "    .dataframe tbody tr th {\n",
       "        vertical-align: top;\n",
       "    }\n",
       "\n",
       "    .dataframe thead th {\n",
       "        text-align: right;\n",
       "    }\n",
       "</style>\n",
       "<table border=\"1\" class=\"dataframe\">\n",
       "  <thead>\n",
       "    <tr style=\"text-align: right;\">\n",
       "      <th>Gender</th>\n",
       "      <th>Female</th>\n",
       "      <th>Male</th>\n",
       "    </tr>\n",
       "    <tr>\n",
       "      <th>income_bin</th>\n",
       "      <th></th>\n",
       "      <th></th>\n",
       "    </tr>\n",
       "  </thead>\n",
       "  <tbody>\n",
       "    <tr>\n",
       "      <th>low</th>\n",
       "      <td>46</td>\n",
       "      <td>44</td>\n",
       "    </tr>\n",
       "    <tr>\n",
       "      <th>high</th>\n",
       "      <td>30</td>\n",
       "      <td>60</td>\n",
       "    </tr>\n",
       "  </tbody>\n",
       "</table>\n",
       "</div>"
      ],
      "text/plain": [
       "Gender      Female  Male\n",
       "income_bin              \n",
       "low             46    44\n",
       "high            30    60"
      ]
     },
     "execution_count": 40,
     "metadata": {},
     "output_type": "execute_result"
    }
   ],
   "source": [
    "income_gender=pd.crosstab(columns=df[\"Gender\"],index=df[\"income_bin\"])\n",
    "income_gender"
   ]
  },
  {
   "cell_type": "code",
   "execution_count": 41,
   "id": "018ac725",
   "metadata": {},
   "outputs": [
    {
     "name": "stdout",
     "output_type": "stream",
     "text": [
      "chi_stat :  5.123987854251013\n",
      "p_value :  0.023597328751612023\n",
      "dof :  1\n",
      "expected_freq :  [[38. 52.]\n",
      " [38. 52.]]\n",
      "Interpretation : Reject Ho\n"
     ]
    }
   ],
   "source": [
    "# Ho : Gender Doesnt affect Income( independant)\n",
    "# Ha : Gender Affects Income ( dependant)\n",
    "\n",
    "chi_stat,p_value,dof,expected_freq=chi2_contingency(income_gender)\n",
    "print(\"chi_stat : \",chi_stat)\n",
    "print(\"p_value : \",p_value)\n",
    "print(\"dof : \",dof)\n",
    "print(\"expected_freq : \",expected_freq)\n",
    "alpha = 0.05\n",
    "if p_value <alpha :\n",
    "    print(\"Interpretation : Reject Ho\")\n",
    "else:\n",
    "    print(\"Interpretation : Fail to Reject Ho\")"
   ]
  },
  {
   "cell_type": "code",
   "execution_count": 43,
   "id": "4de4d0c8",
   "metadata": {},
   "outputs": [
    {
     "data": {
      "text/plain": [
       "3.841458820694124"
      ]
     },
     "execution_count": 43,
     "metadata": {},
     "output_type": "execute_result"
    }
   ],
   "source": [
    "chi2.ppf(0.95,df=1)"
   ]
  },
  {
   "cell_type": "code",
   "execution_count": null,
   "id": "878bc5e0",
   "metadata": {},
   "outputs": [],
   "source": []
  },
  {
   "cell_type": "code",
   "execution_count": null,
   "id": "ec8a4516",
   "metadata": {},
   "outputs": [],
   "source": []
  },
  {
   "cell_type": "code",
   "execution_count": null,
   "id": "fbb374fa",
   "metadata": {},
   "outputs": [],
   "source": []
  },
  {
   "cell_type": "code",
   "execution_count": null,
   "id": "3145821f",
   "metadata": {},
   "outputs": [],
   "source": []
  },
  {
   "cell_type": "code",
   "execution_count": null,
   "id": "e75aa5ab",
   "metadata": {},
   "outputs": [],
   "source": []
  },
  {
   "cell_type": "code",
   "execution_count": 47,
   "id": "70b01f84",
   "metadata": {},
   "outputs": [
    {
     "data": {
      "text/plain": [
       "3.6335677938559874"
      ]
     },
     "execution_count": 47,
     "metadata": {},
     "output_type": "execute_result"
    }
   ],
   "source": [
    "3.5+(1.28*((0.7)/np.sqrt(45)))"
   ]
  },
  {
   "cell_type": "code",
   "execution_count": 48,
   "id": "e7999d80",
   "metadata": {},
   "outputs": [
    {
     "data": {
      "text/plain": [
       "3.8535677938559876"
      ]
     },
     "execution_count": 48,
     "metadata": {},
     "output_type": "execute_result"
    }
   ],
   "source": [
    "3.72+(1.28*((0.7)/np.sqrt(45)))"
   ]
  },
  {
   "cell_type": "code",
   "execution_count": 49,
   "id": "3390e030",
   "metadata": {},
   "outputs": [
    {
     "data": {
      "text/plain": [
       "4.396"
      ]
     },
     "execution_count": 49,
     "metadata": {},
     "output_type": "execute_result"
    }
   ],
   "source": [
    "3.5+(1.28*((0.7)))"
   ]
  },
  {
   "cell_type": "code",
   "execution_count": null,
   "id": "a4143a9c",
   "metadata": {},
   "outputs": [],
   "source": []
  }
 ],
 "metadata": {
  "kernelspec": {
   "display_name": "Python 3 (ipykernel)",
   "language": "python",
   "name": "python3"
  },
  "language_info": {
   "codemirror_mode": {
    "name": "ipython",
    "version": 3
   },
   "file_extension": ".py",
   "mimetype": "text/x-python",
   "name": "python",
   "nbconvert_exporter": "python",
   "pygments_lexer": "ipython3",
   "version": "3.9.7"
  },
  "varInspector": {
   "cols": {
    "lenName": 16,
    "lenType": 16,
    "lenVar": 40
   },
   "kernels_config": {
    "python": {
     "delete_cmd_postfix": "",
     "delete_cmd_prefix": "del ",
     "library": "var_list.py",
     "varRefreshCmd": "print(var_dic_list())"
    },
    "r": {
     "delete_cmd_postfix": ") ",
     "delete_cmd_prefix": "rm(",
     "library": "var_list.r",
     "varRefreshCmd": "cat(var_dic_list()) "
    }
   },
   "types_to_exclude": [
    "module",
    "function",
    "builtin_function_or_method",
    "instance",
    "_Feature"
   ],
   "window_display": false
  }
 },
 "nbformat": 4,
 "nbformat_minor": 5
}
