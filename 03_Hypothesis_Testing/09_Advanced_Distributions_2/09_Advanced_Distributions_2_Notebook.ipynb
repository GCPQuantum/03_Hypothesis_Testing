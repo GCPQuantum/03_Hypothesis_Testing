{
 "cells": [
  {
   "cell_type": "markdown",
   "id": "9e0dfa23",
   "metadata": {},
   "source": [
    "# Importing Libraries\n"
   ]
  },
  {
   "cell_type": "code",
   "execution_count": 1,
   "id": "a830ba10",
   "metadata": {},
   "outputs": [],
   "source": [
    "import numpy as np\n",
    "import pandas as pd\n",
    "import seaborn as sns\n",
    "import matplotlib.pyplot as plt\n",
    "from scipy.stats import poisson,binom,expon\n"
   ]
  },
  {
   "cell_type": "markdown",
   "id": "c0f4c802",
   "metadata": {},
   "source": [
    "# Poisson Distribution"
   ]
  },
  {
   "cell_type": "code",
   "execution_count": 2,
   "id": "e9b318de",
   "metadata": {},
   "outputs": [
    {
     "data": {
      "text/plain": [
       "0.07188336510431341"
      ]
     },
     "execution_count": 2,
     "metadata": {},
     "output_type": "execute_result"
    }
   ],
   "source": [
    "poisson.pmf(k=15,mu=18.5)"
   ]
  },
  {
   "cell_type": "code",
   "execution_count": 3,
   "id": "17b28f70",
   "metadata": {},
   "outputs": [
    {
     "data": {
      "text/plain": [
       "0.9992622541111789"
      ]
     },
     "execution_count": 3,
     "metadata": {},
     "output_type": "execute_result"
    }
   ],
   "source": [
    "1-poisson.cdf(k=6,mu=18.5)"
   ]
  },
  {
   "cell_type": "code",
   "execution_count": 4,
   "id": "daf3c70e",
   "metadata": {},
   "outputs": [
    {
     "data": {
      "text/plain": [
       "0.2706705664732254"
      ]
     },
     "execution_count": 4,
     "metadata": {},
     "output_type": "execute_result"
    }
   ],
   "source": [
    "poisson.pmf(k=1,mu=2)"
   ]
  },
  {
   "cell_type": "code",
   "execution_count": 5,
   "id": "123778a9",
   "metadata": {},
   "outputs": [
    {
     "data": {
      "text/plain": [
       "0.36787944117144233"
      ]
     },
     "execution_count": 5,
     "metadata": {},
     "output_type": "execute_result"
    }
   ],
   "source": [
    "poisson.pmf(k=0,mu=1)"
   ]
  },
  {
   "cell_type": "code",
   "execution_count": 6,
   "id": "a4a63091",
   "metadata": {},
   "outputs": [
    {
     "data": {
      "text/plain": [
       "0.10413714098399081"
      ]
     },
     "execution_count": 6,
     "metadata": {},
     "output_type": "execute_result"
    }
   ],
   "source": [
    "poisson.pmf(k=3,mu=4/3)"
   ]
  },
  {
   "cell_type": "code",
   "execution_count": 7,
   "id": "0e79c113",
   "metadata": {},
   "outputs": [
    {
     "data": {
      "text/plain": [
       "0.9898141728888165"
      ]
     },
     "execution_count": 7,
     "metadata": {},
     "output_type": "execute_result"
    }
   ],
   "source": [
    "poisson.cdf(k=1,mu=3/20)"
   ]
  },
  {
   "cell_type": "code",
   "execution_count": 8,
   "id": "e8d33906",
   "metadata": {},
   "outputs": [
    {
     "data": {
      "text/plain": [
       "0.08674393303071422"
      ]
     },
     "execution_count": 8,
     "metadata": {},
     "output_type": "execute_result"
    }
   ],
   "source": [
    "poisson.pmf(k=3,mu=1.2)"
   ]
  },
  {
   "cell_type": "code",
   "execution_count": 9,
   "id": "da7d4456",
   "metadata": {},
   "outputs": [
    {
     "data": {
      "text/plain": [
       "0.08660120920447566"
      ]
     },
     "execution_count": 9,
     "metadata": {},
     "output_type": "execute_result"
    }
   ],
   "source": [
    "binom.pmf(k=3,n=80,p=0.015)"
   ]
  },
  {
   "cell_type": "code",
   "execution_count": 10,
   "id": "a9b0dce0",
   "metadata": {},
   "outputs": [
    {
     "data": {
      "text/plain": [
       "0.5117085777865424"
      ]
     },
     "execution_count": 10,
     "metadata": {},
     "output_type": "execute_result"
    }
   ],
   "source": [
    "poisson.pmf(k=0,mu=0.67)"
   ]
  },
  {
   "cell_type": "markdown",
   "id": "6a16de5f",
   "metadata": {},
   "source": [
    "# Exponential Distribution"
   ]
  },
  {
   "cell_type": "code",
   "execution_count": 11,
   "id": "7277ce2b",
   "metadata": {},
   "outputs": [
    {
     "data": {
      "text/plain": [
       "0.513417119032592"
      ]
     },
     "execution_count": 11,
     "metadata": {},
     "output_type": "execute_result"
    }
   ],
   "source": [
    "1-expon.cdf(x=10,scale=15)"
   ]
  },
  {
   "cell_type": "code",
   "execution_count": 12,
   "id": "44099ec0",
   "metadata": {},
   "outputs": [
    {
     "data": {
      "text/plain": [
       "0.486582880967408"
      ]
     },
     "execution_count": 12,
     "metadata": {},
     "output_type": "execute_result"
    }
   ],
   "source": [
    "expon.cdf(x=10,scale=15)"
   ]
  },
  {
   "cell_type": "code",
   "execution_count": 13,
   "id": "af5ed87e",
   "metadata": {},
   "outputs": [
    {
     "data": {
      "text/plain": [
       "0.08144952294577923"
      ]
     },
     "execution_count": 13,
     "metadata": {},
     "output_type": "execute_result"
    }
   ],
   "source": [
    "expon.cdf(x=5,scale=5)-expon.cdf(x=4,scale=5)"
   ]
  },
  {
   "cell_type": "code",
   "execution_count": 14,
   "id": "c87f051c",
   "metadata": {},
   "outputs": [
    {
     "data": {
      "text/plain": [
       "0.3011942119122022"
      ]
     },
     "execution_count": 14,
     "metadata": {},
     "output_type": "execute_result"
    }
   ],
   "source": [
    "1-expon.cdf(x=6,scale=5)"
   ]
  },
  {
   "cell_type": "code",
   "execution_count": 15,
   "id": "e1934bd8",
   "metadata": {},
   "outputs": [
    {
     "data": {
      "text/plain": [
       "0.3011942119122021"
      ]
     },
     "execution_count": 15,
     "metadata": {},
     "output_type": "execute_result"
    }
   ],
   "source": [
    "(1-expon.cdf(x=9,scale=5))/(1-expon.cdf(x=3,scale=5))"
   ]
  },
  {
   "cell_type": "code",
   "execution_count": 16,
   "id": "b821c494",
   "metadata": {},
   "outputs": [
    {
     "data": {
      "text/plain": [
       "0.3011942119122017"
      ]
     },
     "execution_count": 16,
     "metadata": {},
     "output_type": "execute_result"
    }
   ],
   "source": [
    "(1-expon.cdf(x=16,scale=5))/(1-expon.cdf(x=10,scale=5))"
   ]
  },
  {
   "cell_type": "code",
   "execution_count": 17,
   "id": "a2a097a6",
   "metadata": {},
   "outputs": [
    {
     "data": {
      "text/plain": [
       "0.30119420609105596"
      ]
     },
     "execution_count": 17,
     "metadata": {},
     "output_type": "execute_result"
    }
   ],
   "source": [
    "(1-expon.cdf(x=106,scale=5))/(1-expon.cdf(x=100,scale=5))"
   ]
  },
  {
   "cell_type": "code",
   "execution_count": 18,
   "id": "4af13b26",
   "metadata": {},
   "outputs": [
    {
     "data": {
      "text/plain": [
       "0.17377394345044517"
      ]
     },
     "execution_count": 18,
     "metadata": {},
     "output_type": "execute_result"
    }
   ],
   "source": [
    "1-expon.cdf(x=30,scale=60/3.5)"
   ]
  },
  {
   "cell_type": "code",
   "execution_count": 19,
   "id": "7c9c9e4a",
   "metadata": {},
   "outputs": [
    {
     "data": {
      "text/plain": [
       "0.17377394345044517"
      ]
     },
     "execution_count": 19,
     "metadata": {},
     "output_type": "execute_result"
    }
   ],
   "source": [
    "1-expon.cdf(x=0.5,scale=1/3.5)"
   ]
  },
  {
   "cell_type": "code",
   "execution_count": null,
   "id": "140633cc",
   "metadata": {},
   "outputs": [],
   "source": []
  },
  {
   "cell_type": "code",
   "execution_count": null,
   "id": "1b81db3b",
   "metadata": {},
   "outputs": [],
   "source": []
  },
  {
   "cell_type": "code",
   "execution_count": null,
   "id": "49474969",
   "metadata": {},
   "outputs": [],
   "source": []
  },
  {
   "cell_type": "markdown",
   "id": "1cad1287",
   "metadata": {
    "heading_collapsed": true
   },
   "source": [
    "# Log Normal Distribution"
   ]
  },
  {
   "cell_type": "code",
   "execution_count": null,
   "id": "4dd5bdac",
   "metadata": {
    "hidden": true
   },
   "outputs": [],
   "source": []
  }
 ],
 "metadata": {
  "kernelspec": {
   "display_name": "Python 3 (ipykernel)",
   "language": "python",
   "name": "python3"
  },
  "language_info": {
   "codemirror_mode": {
    "name": "ipython",
    "version": 3
   },
   "file_extension": ".py",
   "mimetype": "text/x-python",
   "name": "python",
   "nbconvert_exporter": "python",
   "pygments_lexer": "ipython3",
   "version": "3.9.7"
  },
  "varInspector": {
   "cols": {
    "lenName": 16,
    "lenType": 16,
    "lenVar": 40
   },
   "kernels_config": {
    "python": {
     "delete_cmd_postfix": "",
     "delete_cmd_prefix": "del ",
     "library": "var_list.py",
     "varRefreshCmd": "print(var_dic_list())"
    },
    "r": {
     "delete_cmd_postfix": ") ",
     "delete_cmd_prefix": "rm(",
     "library": "var_list.r",
     "varRefreshCmd": "cat(var_dic_list()) "
    }
   },
   "types_to_exclude": [
    "module",
    "function",
    "builtin_function_or_method",
    "instance",
    "_Feature"
   ],
   "window_display": false
  }
 },
 "nbformat": 4,
 "nbformat_minor": 5
}
