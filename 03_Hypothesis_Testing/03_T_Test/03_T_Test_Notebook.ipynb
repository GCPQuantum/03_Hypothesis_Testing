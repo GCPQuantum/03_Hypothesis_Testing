{
 "cells": [
  {
   "cell_type": "markdown",
   "id": "ec21ee06",
   "metadata": {},
   "source": [
    "# Importing Libraries"
   ]
  },
  {
   "cell_type": "code",
   "execution_count": 1,
   "id": "e83f9096",
   "metadata": {},
   "outputs": [],
   "source": [
    "import numpy as np\n",
    "import pandas as pd\n",
    "import seaborn as sns\n",
    "import matplotlib.pyplot as plt\n",
    "from scipy.stats import norm, t\n",
    "from scipy.stats import ttest_1samp, ttest_ind"
   ]
  },
  {
   "cell_type": "markdown",
   "id": "66fecb9e",
   "metadata": {},
   "source": [
    "# Pastries"
   ]
  },
  {
   "cell_type": "markdown",
   "id": "33f44d83",
   "metadata": {},
   "source": [
    "A french cake shop claims that the average number of pastries they can produce in a day exceeds 500. The average number of pastries produced per day over a 70 day period was found to be 530. Assume that the population standard deviation for the pastries produced per day is 125. Test the claim using a z-test with the critical z-value = 1.64 at the alpha (significance level) = 0.05, and state your interpretation."
   ]
  },
  {
   "cell_type": "code",
   "execution_count": 8,
   "id": "b173f28e",
   "metadata": {},
   "outputs": [
    {
     "name": "stdout",
     "output_type": "stream",
     "text": [
      "z_stat :  2.007984063681781\n",
      "alpha :  0.05\n",
      "p_value :  0.022322492581293485\n",
      "Reject Ho\n"
     ]
    }
   ],
   "source": [
    "# Ho : mu = 500\n",
    "# Ha : mu > 500\n",
    "\n",
    "z_stat= (530-500)/(125/np.sqrt(70))\n",
    "print(\"z_stat : \",z_stat)\n",
    "alpha = 0.05\n",
    "print(\"alpha : \",alpha)\n",
    "\n",
    "p_value=1-norm.cdf(z_stat)\n",
    "print(\"p_value : \",p_value)\n",
    "\n",
    "if p_value < alpha :\n",
    "    print(\"Reject Ho\")\n",
    "else : \n",
    "    print(\"Fail to Reject Ho\")"
   ]
  },
  {
   "cell_type": "code",
   "execution_count": 10,
   "id": "b91bb051",
   "metadata": {},
   "outputs": [
    {
     "name": "stdout",
     "output_type": "stream",
     "text": [
      "z_critical_value :  1.6448536269514722\n"
     ]
    }
   ],
   "source": [
    "observed = 530 \n",
    "z_critical_value = norm.ppf(0.95)\n",
    "print(\"z_critical_value : \",z_critical_value)"
   ]
  },
  {
   "cell_type": "code",
   "execution_count": null,
   "id": "45e3c7e6",
   "metadata": {},
   "outputs": [],
   "source": [
    "# z= x-mu/(sigma/np.sqrt(n))"
   ]
  },
  {
   "cell_type": "code",
   "execution_count": 15,
   "id": "bc0ddacd",
   "metadata": {},
   "outputs": [
    {
     "name": "stdout",
     "output_type": "stream",
     "text": [
      "critical_value :  524.574701413748\n",
      "observed_value :  530\n"
     ]
    }
   ],
   "source": [
    "mu = 500\n",
    "observed_value = 530 \n",
    "critical_value = mu + z_critical_value*(125/np.sqrt(70))\n",
    "print(\"critical_value : \",critical_value)\n",
    "print(\"observed_value : \",observed_value)"
   ]
  },
  {
   "cell_type": "code",
   "execution_count": 16,
   "id": "c8266e82",
   "metadata": {},
   "outputs": [
    {
     "name": "stdout",
     "output_type": "stream",
     "text": [
      "Reject Ho\n"
     ]
    }
   ],
   "source": [
    "# for a right tailed test\n",
    "if critical_value < observed_value :\n",
    "    print(\"Reject Ho\")\n",
    "else : \n",
    "    print(\"Fail to Reject Ho\")"
   ]
  },
  {
   "cell_type": "code",
   "execution_count": 17,
   "id": "78bba92b",
   "metadata": {},
   "outputs": [
    {
     "data": {
      "text/plain": [
       "524.574701413748"
      ]
     },
     "execution_count": 17,
     "metadata": {},
     "output_type": "execute_result"
    }
   ],
   "source": [
    "norm.ppf(q=0.95,loc=500,scale=(125/np.sqrt(70)))"
   ]
  },
  {
   "cell_type": "markdown",
   "id": "5a390eec",
   "metadata": {},
   "source": [
    "# Improve IQ with a pill"
   ]
  },
  {
   "cell_type": "markdown",
   "id": "15c7f386",
   "metadata": {},
   "source": [
    "Population IQ average = 100\n",
    "\n",
    "\n",
    "One researcher claims that his pill will improve IQ"
   ]
  },
  {
   "cell_type": "code",
   "execution_count": 18,
   "id": "37159428",
   "metadata": {},
   "outputs": [],
   "source": [
    "# The pill is given to a few people and their IQ is tested with following results:\n",
    "iq_scores = [110, 105, 98, 102, 99, 104, 115, 95]"
   ]
  },
  {
   "cell_type": "code",
   "execution_count": 19,
   "id": "a5c34e1f",
   "metadata": {},
   "outputs": [
    {
     "data": {
      "text/plain": [
       "103.5"
      ]
     },
     "execution_count": 19,
     "metadata": {},
     "output_type": "execute_result"
    }
   ],
   "source": [
    "np.mean(iq_scores)"
   ]
  },
  {
   "cell_type": "code",
   "execution_count": null,
   "id": "b29d29fe",
   "metadata": {},
   "outputs": [],
   "source": [
    "#Establish with 99% confidence ( alpha = 0.01)\n"
   ]
  },
  {
   "cell_type": "code",
   "execution_count": 31,
   "id": "17d304fb",
   "metadata": {},
   "outputs": [],
   "source": [
    "# Ho : mu = 100 ( pill had not effect)\n",
    "# Ha : mu > 100 ( pill had an effect)"
   ]
  },
  {
   "cell_type": "code",
   "execution_count": 35,
   "id": "6768cf78",
   "metadata": {},
   "outputs": [
    {
     "name": "stdout",
     "output_type": "stream",
     "text": [
      "t_stat :  1.5071573172061195\n",
      "p_value :  0.08774972467925055\n",
      "Fail to Reject Ho\n"
     ]
    }
   ],
   "source": [
    "t_stat,p_value=ttest_1samp(iq_scores,100,alternative=\"greater\")\n",
    "print(\"t_stat : \",t_stat)\n",
    "print(\"p_value : \",p_value)\n",
    "alpha= 0.01\n",
    "if p_value < alpha :\n",
    "    print(\"Reject Ho\")\n",
    "else : \n",
    "    print(\"Fail to Reject Ho\")"
   ]
  },
  {
   "cell_type": "code",
   "execution_count": 39,
   "id": "23bef5b7",
   "metadata": {},
   "outputs": [
    {
     "name": "stdout",
     "output_type": "stream",
     "text": [
      "t_stat1 :  1.5071573172061195\n"
     ]
    }
   ],
   "source": [
    "t_stat1= (103.5-100)/(( pd.Series(iq_scores).std()/np.sqrt(8)))\n",
    "print(\"t_stat1 : \",t_stat1)"
   ]
  },
  {
   "cell_type": "code",
   "execution_count": 43,
   "id": "9c2f69b8",
   "metadata": {},
   "outputs": [
    {
     "name": "stdout",
     "output_type": "stream",
     "text": [
      "p_value1 :  0.08774972467925057\n",
      "Fail to Reject Ho\n"
     ]
    }
   ],
   "source": [
    "p_value1=1-t.cdf(t_stat1,df=7)\n",
    "print(\"p_value1 : \",p_value1)\n",
    "if p_value1 < alpha :\n",
    "    print(\"Reject Ho\")\n",
    "else : \n",
    "    print(\"Fail to Reject Ho\")"
   ]
  },
  {
   "cell_type": "markdown",
   "id": "988e8465",
   "metadata": {},
   "source": [
    "# T Distribution"
   ]
  },
  {
   "cell_type": "code",
   "execution_count": 30,
   "id": "f2c99400",
   "metadata": {},
   "outputs": [
    {
     "data": {
      "text/plain": [
       "[<matplotlib.lines.Line2D at 0x7f96282486d0>]"
      ]
     },
     "execution_count": 30,
     "metadata": {},
     "output_type": "execute_result"
    },
    {
     "data": {
      "image/png": "[encoded data removed]",
      "text/plain": [
       "<Figure size 432x288 with 1 Axes>"
      ]
     },
     "metadata": {
      "needs_background": "light"
     },
     "output_type": "display_data"
    }
   ],
   "source": [
    "x_values= np.linspace(-10,10,1000)\n",
    "y_values= norm.cdf(x_values)\n",
    "\n",
    "plt.plot ( x_values, y_values,color= \"green\")\n",
    "\n",
    "y_values1= t.cdf(x_values,df=10000)\n",
    "\n",
    "plt.plot ( x_values, y_values1,color= \"blue\")"
   ]
  },
  {
   "cell_type": "code",
   "execution_count": null,
   "id": "e907ea15",
   "metadata": {},
   "outputs": [],
   "source": []
  },
  {
   "cell_type": "code",
   "execution_count": null,
   "id": "d7b7ec63",
   "metadata": {},
   "outputs": [],
   "source": []
  },
  {
   "cell_type": "code",
   "execution_count": null,
   "id": "6a61c889",
   "metadata": {},
   "outputs": [],
   "source": []
  },
  {
   "cell_type": "code",
   "execution_count": null,
   "id": "13f2ef02",
   "metadata": {},
   "outputs": [],
   "source": []
  },
  {
   "cell_type": "markdown",
   "id": "a5aca52d",
   "metadata": {},
   "source": [
    "# IQ across 2 schools"
   ]
  },
  {
   "cell_type": "code",
   "execution_count": 44,
   "id": "4676ce98",
   "metadata": {},
   "outputs": [],
   "source": [
    "df_iq = pd.read_csv(\"iq_two_schools.csv\")"
   ]
  },
  {
   "cell_type": "code",
   "execution_count": 47,
   "id": "5c114eff",
   "metadata": {},
   "outputs": [
    {
     "data": {
      "text/html": [
       "<div>\n",
       "<style scoped>\n",
       "    .dataframe tbody tr th:only-of-type {\n",
       "        vertical-align: middle;\n",
       "    }\n",
       "\n",
       "    .dataframe tbody tr th {\n",
       "        vertical-align: top;\n",
       "    }\n",
       "\n",
       "    .dataframe thead th {\n",
       "        text-align: right;\n",
       "    }\n",
       "</style>\n",
       "<table border=\"1\" class=\"dataframe\">\n",
       "  <thead>\n",
       "    <tr style=\"text-align: right;\">\n",
       "      <th></th>\n",
       "      <th>School</th>\n",
       "      <th>iq</th>\n",
       "    </tr>\n",
       "  </thead>\n",
       "  <tbody>\n",
       "    <tr>\n",
       "      <th>0</th>\n",
       "      <td>school_1</td>\n",
       "      <td>91</td>\n",
       "    </tr>\n",
       "    <tr>\n",
       "      <th>1</th>\n",
       "      <td>school_1</td>\n",
       "      <td>95</td>\n",
       "    </tr>\n",
       "    <tr>\n",
       "      <th>2</th>\n",
       "      <td>school_1</td>\n",
       "      <td>110</td>\n",
       "    </tr>\n",
       "    <tr>\n",
       "      <th>3</th>\n",
       "      <td>school_1</td>\n",
       "      <td>112</td>\n",
       "    </tr>\n",
       "    <tr>\n",
       "      <th>4</th>\n",
       "      <td>school_1</td>\n",
       "      <td>115</td>\n",
       "    </tr>\n",
       "  </tbody>\n",
       "</table>\n",
       "</div>"
      ],
      "text/plain": [
       "     School   iq\n",
       "0  school_1   91\n",
       "1  school_1   95\n",
       "2  school_1  110\n",
       "3  school_1  112\n",
       "4  school_1  115"
      ]
     },
     "execution_count": 47,
     "metadata": {},
     "output_type": "execute_result"
    }
   ],
   "source": [
    "df_iq.head()"
   ]
  },
  {
   "cell_type": "code",
   "execution_count": 52,
   "id": "e7821ce2",
   "metadata": {},
   "outputs": [],
   "source": [
    "iq_1= df_iq.loc[df_iq[\"School\"]==\"school_1\"][\"iq\"]\n",
    "iq_2= df_iq.loc[df_iq[\"School\"]==\"school_2\"][\"iq\"]\n"
   ]
  },
  {
   "cell_type": "code",
   "execution_count": 53,
   "id": "db82e615",
   "metadata": {},
   "outputs": [
    {
     "data": {
      "text/plain": [
       "101.15384615384616"
      ]
     },
     "execution_count": 53,
     "metadata": {},
     "output_type": "execute_result"
    }
   ],
   "source": [
    "iq_1.mean()"
   ]
  },
  {
   "cell_type": "code",
   "execution_count": 54,
   "id": "9d303b50",
   "metadata": {},
   "outputs": [
    {
     "data": {
      "text/plain": [
       "109.41666666666667"
      ]
     },
     "execution_count": 54,
     "metadata": {},
     "output_type": "execute_result"
    }
   ],
   "source": [
    "iq_2.mean()"
   ]
  },
  {
   "cell_type": "code",
   "execution_count": 55,
   "id": "bc6be819",
   "metadata": {},
   "outputs": [],
   "source": [
    "# Ho : mu1 = mu2 \n",
    "# Ha1 : mu1 > mu2 \n",
    "# Ha2 : mu1 < mu2 \n",
    "# Ha3 : mu1 != mu2 \n"
   ]
  },
  {
   "cell_type": "code",
   "execution_count": 57,
   "id": "96968014",
   "metadata": {},
   "outputs": [
    {
     "name": "stdout",
     "output_type": "stream",
     "text": [
      "t_stat :  -2.4056474861512704\n",
      "p_value :  0.02004552710936217\n",
      "Reject Ho\n"
     ]
    }
   ],
   "source": [
    "t_stat,p_value=ttest_ind(iq_1,iq_2,alternative=\"two-sided\")\n",
    "print(\"t_stat : \",t_stat)\n",
    "print(\"p_value : \",p_value)\n",
    "alpha= 0.05\n",
    "if p_value < alpha :\n",
    "    print(\"Reject Ho\")\n",
    "else : \n",
    "    print(\"Fail to Reject Ho\")"
   ]
  },
  {
   "cell_type": "code",
   "execution_count": 58,
   "id": "978a40be",
   "metadata": {},
   "outputs": [
    {
     "name": "stdout",
     "output_type": "stream",
     "text": [
      "t_stat :  -2.4056474861512704\n",
      "p_value :  0.010022763554681085\n",
      "Reject Ho\n"
     ]
    }
   ],
   "source": [
    "t_stat,p_value=ttest_ind(iq_1,iq_2,alternative=\"less\")\n",
    "print(\"t_stat : \",t_stat)\n",
    "print(\"p_value : \",p_value)\n",
    "alpha= 0.05\n",
    "if p_value < alpha :\n",
    "    print(\"Reject Ho\")\n",
    "else : \n",
    "    print(\"Fail to Reject Ho\")"
   ]
  },
  {
   "cell_type": "code",
   "execution_count": 59,
   "id": "95552921",
   "metadata": {},
   "outputs": [
    {
     "name": "stdout",
     "output_type": "stream",
     "text": [
      "t_stat :  2.4056474861512704\n",
      "p_value :  0.010022763554681085\n",
      "Reject Ho\n"
     ]
    }
   ],
   "source": [
    "t_stat,p_value=ttest_ind(iq_2,iq_1,alternative=\"greater\")\n",
    "print(\"t_stat : \",t_stat)\n",
    "print(\"p_value : \",p_value)\n",
    "alpha= 0.05\n",
    "if p_value < alpha :\n",
    "    print(\"Reject Ho\")\n",
    "else : \n",
    "    print(\"Fail to Reject Ho\")"
   ]
  },
  {
   "cell_type": "code",
   "execution_count": 60,
   "id": "a71e10ff",
   "metadata": {},
   "outputs": [
    {
     "name": "stdout",
     "output_type": "stream",
     "text": [
      "t_stat :  -2.4056474861512704\n",
      "p_value :  0.9899772364453189\n",
      "Fail to Reject Ho\n"
     ]
    }
   ],
   "source": [
    "t_stat,p_value=ttest_ind(iq_1,iq_2,alternative=\"greater\")\n",
    "print(\"t_stat : \",t_stat)\n",
    "print(\"p_value : \",p_value)\n",
    "alpha= 0.05\n",
    "if p_value < alpha :\n",
    "    print(\"Reject Ho\")\n",
    "else : \n",
    "    print(\"Fail to Reject Ho\")"
   ]
  },
  {
   "cell_type": "code",
   "execution_count": null,
   "id": "42760d37",
   "metadata": {},
   "outputs": [],
   "source": []
  },
  {
   "cell_type": "code",
   "execution_count": null,
   "id": "3263de72",
   "metadata": {},
   "outputs": [],
   "source": []
  },
  {
   "cell_type": "code",
   "execution_count": null,
   "id": "2b994f5c",
   "metadata": {},
   "outputs": [],
   "source": []
  },
  {
   "cell_type": "code",
   "execution_count": null,
   "id": "03f46966",
   "metadata": {},
   "outputs": [],
   "source": []
  },
  {
   "cell_type": "markdown",
   "id": "bc3ec8fe",
   "metadata": {},
   "source": [
    "# Cricket "
   ]
  },
  {
   "cell_type": "code",
   "execution_count": 61,
   "id": "c48932eb",
   "metadata": {},
   "outputs": [],
   "source": [
    "df = pd.read_csv(\"Sachin_ODI.csv\")"
   ]
  },
  {
   "cell_type": "code",
   "execution_count": 4,
   "id": "b1b75ddb",
   "metadata": {},
   "outputs": [
    {
     "data": {
      "text/html": [
       "<div>\n",
       "<style scoped>\n",
       "    .dataframe tbody tr th:only-of-type {\n",
       "        vertical-align: middle;\n",
       "    }\n",
       "\n",
       "    .dataframe tbody tr th {\n",
       "        vertical-align: top;\n",
       "    }\n",
       "\n",
       "    .dataframe thead th {\n",
       "        text-align: right;\n",
       "    }\n",
       "</style>\n",
       "<table border=\"1\" class=\"dataframe\">\n",
       "  <thead>\n",
       "    <tr style=\"text-align: right;\">\n",
       "      <th></th>\n",
       "      <th>runs</th>\n",
       "      <th>NotOut</th>\n",
       "      <th>mins</th>\n",
       "      <th>bf</th>\n",
       "      <th>fours</th>\n",
       "      <th>sixes</th>\n",
       "      <th>sr</th>\n",
       "      <th>Inns</th>\n",
       "      <th>Opp</th>\n",
       "      <th>Ground</th>\n",
       "      <th>Date</th>\n",
       "      <th>Winner</th>\n",
       "      <th>Won</th>\n",
       "      <th>century</th>\n",
       "    </tr>\n",
       "  </thead>\n",
       "  <tbody>\n",
       "    <tr>\n",
       "      <th>0</th>\n",
       "      <td>13</td>\n",
       "      <td>0</td>\n",
       "      <td>30</td>\n",
       "      <td>15</td>\n",
       "      <td>3</td>\n",
       "      <td>0</td>\n",
       "      <td>86.66</td>\n",
       "      <td>1</td>\n",
       "      <td>New Zealand</td>\n",
       "      <td>Napier</td>\n",
       "      <td>1995-02-16</td>\n",
       "      <td>New Zealand</td>\n",
       "      <td>False</td>\n",
       "      <td>False</td>\n",
       "    </tr>\n",
       "    <tr>\n",
       "      <th>1</th>\n",
       "      <td>37</td>\n",
       "      <td>0</td>\n",
       "      <td>75</td>\n",
       "      <td>51</td>\n",
       "      <td>3</td>\n",
       "      <td>1</td>\n",
       "      <td>72.54</td>\n",
       "      <td>2</td>\n",
       "      <td>South Africa</td>\n",
       "      <td>Hamilton</td>\n",
       "      <td>1995-02-18</td>\n",
       "      <td>South Africa</td>\n",
       "      <td>False</td>\n",
       "      <td>False</td>\n",
       "    </tr>\n",
       "    <tr>\n",
       "      <th>2</th>\n",
       "      <td>47</td>\n",
       "      <td>0</td>\n",
       "      <td>65</td>\n",
       "      <td>40</td>\n",
       "      <td>7</td>\n",
       "      <td>0</td>\n",
       "      <td>117.50</td>\n",
       "      <td>2</td>\n",
       "      <td>Australia</td>\n",
       "      <td>Dunedin</td>\n",
       "      <td>1995-02-22</td>\n",
       "      <td>India</td>\n",
       "      <td>True</td>\n",
       "      <td>False</td>\n",
       "    </tr>\n",
       "    <tr>\n",
       "      <th>3</th>\n",
       "      <td>48</td>\n",
       "      <td>0</td>\n",
       "      <td>37</td>\n",
       "      <td>30</td>\n",
       "      <td>9</td>\n",
       "      <td>1</td>\n",
       "      <td>160.00</td>\n",
       "      <td>2</td>\n",
       "      <td>Bangladesh</td>\n",
       "      <td>Sharjah</td>\n",
       "      <td>1995-04-05</td>\n",
       "      <td>India</td>\n",
       "      <td>True</td>\n",
       "      <td>False</td>\n",
       "    </tr>\n",
       "    <tr>\n",
       "      <th>4</th>\n",
       "      <td>4</td>\n",
       "      <td>0</td>\n",
       "      <td>13</td>\n",
       "      <td>9</td>\n",
       "      <td>1</td>\n",
       "      <td>0</td>\n",
       "      <td>44.44</td>\n",
       "      <td>2</td>\n",
       "      <td>Pakistan</td>\n",
       "      <td>Sharjah</td>\n",
       "      <td>1995-04-07</td>\n",
       "      <td>Pakistan</td>\n",
       "      <td>False</td>\n",
       "      <td>False</td>\n",
       "    </tr>\n",
       "    <tr>\n",
       "      <th>...</th>\n",
       "      <td>...</td>\n",
       "      <td>...</td>\n",
       "      <td>...</td>\n",
       "      <td>...</td>\n",
       "      <td>...</td>\n",
       "      <td>...</td>\n",
       "      <td>...</td>\n",
       "      <td>...</td>\n",
       "      <td>...</td>\n",
       "      <td>...</td>\n",
       "      <td>...</td>\n",
       "      <td>...</td>\n",
       "      <td>...</td>\n",
       "      <td>...</td>\n",
       "    </tr>\n",
       "    <tr>\n",
       "      <th>355</th>\n",
       "      <td>14</td>\n",
       "      <td>0</td>\n",
       "      <td>34</td>\n",
       "      <td>15</td>\n",
       "      <td>2</td>\n",
       "      <td>0</td>\n",
       "      <td>93.33</td>\n",
       "      <td>2</td>\n",
       "      <td>Australia</td>\n",
       "      <td>Sydney</td>\n",
       "      <td>2012-02-26</td>\n",
       "      <td>Australia</td>\n",
       "      <td>False</td>\n",
       "      <td>False</td>\n",
       "    </tr>\n",
       "    <tr>\n",
       "      <th>356</th>\n",
       "      <td>39</td>\n",
       "      <td>0</td>\n",
       "      <td>45</td>\n",
       "      <td>30</td>\n",
       "      <td>5</td>\n",
       "      <td>0</td>\n",
       "      <td>130.00</td>\n",
       "      <td>2</td>\n",
       "      <td>Sri Lanka</td>\n",
       "      <td>Hobart</td>\n",
       "      <td>2012-02-28</td>\n",
       "      <td>India</td>\n",
       "      <td>True</td>\n",
       "      <td>False</td>\n",
       "    </tr>\n",
       "    <tr>\n",
       "      <th>357</th>\n",
       "      <td>6</td>\n",
       "      <td>0</td>\n",
       "      <td>25</td>\n",
       "      <td>19</td>\n",
       "      <td>1</td>\n",
       "      <td>0</td>\n",
       "      <td>31.57</td>\n",
       "      <td>1</td>\n",
       "      <td>Sri Lanka</td>\n",
       "      <td>Dhaka</td>\n",
       "      <td>2012-03-13</td>\n",
       "      <td>India</td>\n",
       "      <td>True</td>\n",
       "      <td>False</td>\n",
       "    </tr>\n",
       "    <tr>\n",
       "      <th>358</th>\n",
       "      <td>114</td>\n",
       "      <td>0</td>\n",
       "      <td>205</td>\n",
       "      <td>147</td>\n",
       "      <td>12</td>\n",
       "      <td>1</td>\n",
       "      <td>77.55</td>\n",
       "      <td>1</td>\n",
       "      <td>Bangladesh</td>\n",
       "      <td>Dhaka</td>\n",
       "      <td>2012-03-16</td>\n",
       "      <td>Bangladesh</td>\n",
       "      <td>False</td>\n",
       "      <td>True</td>\n",
       "    </tr>\n",
       "    <tr>\n",
       "      <th>359</th>\n",
       "      <td>52</td>\n",
       "      <td>0</td>\n",
       "      <td>93</td>\n",
       "      <td>48</td>\n",
       "      <td>5</td>\n",
       "      <td>1</td>\n",
       "      <td>108.33</td>\n",
       "      <td>2</td>\n",
       "      <td>Pakistan</td>\n",
       "      <td>Dhaka</td>\n",
       "      <td>2012-03-18</td>\n",
       "      <td>India</td>\n",
       "      <td>True</td>\n",
       "      <td>False</td>\n",
       "    </tr>\n",
       "  </tbody>\n",
       "</table>\n",
       "<p>360 rows × 14 columns</p>\n",
       "</div>"
      ],
      "text/plain": [
       "     runs  NotOut mins   bf  fours  sixes      sr  Inns           Opp  \\\n",
       "0      13       0   30   15      3      0   86.66     1   New Zealand   \n",
       "1      37       0   75   51      3      1   72.54     2  South Africa   \n",
       "2      47       0   65   40      7      0  117.50     2     Australia   \n",
       "3      48       0   37   30      9      1  160.00     2    Bangladesh   \n",
       "4       4       0   13    9      1      0   44.44     2      Pakistan   \n",
       "..    ...     ...  ...  ...    ...    ...     ...   ...           ...   \n",
       "355    14       0   34   15      2      0   93.33     2     Australia   \n",
       "356    39       0   45   30      5      0  130.00     2     Sri Lanka   \n",
       "357     6       0   25   19      1      0   31.57     1     Sri Lanka   \n",
       "358   114       0  205  147     12      1   77.55     1    Bangladesh   \n",
       "359    52       0   93   48      5      1  108.33     2      Pakistan   \n",
       "\n",
       "       Ground        Date        Winner    Won  century  \n",
       "0      Napier  1995-02-16   New Zealand  False    False  \n",
       "1    Hamilton  1995-02-18  South Africa  False    False  \n",
       "2     Dunedin  1995-02-22         India   True    False  \n",
       "3     Sharjah  1995-04-05         India   True    False  \n",
       "4     Sharjah  1995-04-07      Pakistan  False    False  \n",
       "..        ...         ...           ...    ...      ...  \n",
       "355    Sydney  2012-02-26     Australia  False    False  \n",
       "356    Hobart  2012-02-28         India   True    False  \n",
       "357     Dhaka  2012-03-13         India   True    False  \n",
       "358     Dhaka  2012-03-16    Bangladesh  False     True  \n",
       "359     Dhaka  2012-03-18         India   True    False  \n",
       "\n",
       "[360 rows x 14 columns]"
      ]
     },
     "execution_count": 4,
     "metadata": {},
     "output_type": "execute_result"
    }
   ],
   "source": [
    "df"
   ]
  },
  {
   "cell_type": "code",
   "execution_count": null,
   "id": "d29244ee",
   "metadata": {},
   "outputs": [],
   "source": []
  },
  {
   "cell_type": "markdown",
   "id": "ccf0b344",
   "metadata": {},
   "source": [
    "## Batting pattern in first and second innings"
   ]
  },
  {
   "cell_type": "code",
   "execution_count": 62,
   "id": "cb55bd39",
   "metadata": {},
   "outputs": [
    {
     "data": {
      "text/plain": [
       "Inns\n",
       "1    46.670588\n",
       "2    40.173684\n",
       "Name: runs, dtype: float64"
      ]
     },
     "execution_count": 62,
     "metadata": {},
     "output_type": "execute_result"
    }
   ],
   "source": [
    "df.groupby(\"Inns\")[\"runs\"].mean()"
   ]
  },
  {
   "cell_type": "code",
   "execution_count": 63,
   "id": "78ea7c4d",
   "metadata": {},
   "outputs": [],
   "source": [
    "df_first_innings = df.loc[df[\"Inns\"]==1][\"runs\"]\n",
    "df_second_innings = df.loc[df[\"Inns\"]==2][\"runs\"]"
   ]
  },
  {
   "cell_type": "code",
   "execution_count": 64,
   "id": "daffc00a",
   "metadata": {},
   "outputs": [],
   "source": [
    "# Ho : mu1 = mu2 ( first inning's performace is similar to second inning's performance)\n",
    "# Ha1 : mu1 > mu2 ( first inning's performace is significantly better than second inning's performance)"
   ]
  },
  {
   "cell_type": "code",
   "execution_count": 65,
   "id": "626e54a7",
   "metadata": {},
   "outputs": [
    {
     "name": "stdout",
     "output_type": "stream",
     "text": [
      "t_stat :  1.4612016295532178\n",
      "p_value :  0.07241862097379981\n",
      "Fail to Reject Ho\n"
     ]
    }
   ],
   "source": [
    "t_stat,p_value=ttest_ind(df_first_innings,df_second_innings,alternative=\"greater\")\n",
    "print(\"t_stat : \",t_stat)\n",
    "print(\"p_value : \",p_value)\n",
    "alpha= 0.05\n",
    "if p_value < alpha :\n",
    "    print(\"Reject Ho\")\n",
    "else : \n",
    "    print(\"Fail to Reject Ho\")"
   ]
  },
  {
   "cell_type": "code",
   "execution_count": 66,
   "id": "6f16f4d6",
   "metadata": {},
   "outputs": [
    {
     "name": "stdout",
     "output_type": "stream",
     "text": [
      "t_stat :  1.4612016295532178\n",
      "p_value :  0.14483724194759962\n",
      "Fail to Reject Ho\n"
     ]
    }
   ],
   "source": [
    "t_stat,p_value=ttest_ind(df_first_innings,df_second_innings,alternative=\"two-sided\")\n",
    "print(\"t_stat : \",t_stat)\n",
    "print(\"p_value : \",p_value)\n",
    "alpha= 0.05\n",
    "if p_value < alpha :\n",
    "    print(\"Reject Ho\")\n",
    "else : \n",
    "    print(\"Fail to Reject Ho\")"
   ]
  },
  {
   "cell_type": "markdown",
   "id": "cedca757",
   "metadata": {},
   "source": [
    "## Victory Vs Defeat"
   ]
  },
  {
   "cell_type": "code",
   "execution_count": 67,
   "id": "982d62d4",
   "metadata": {},
   "outputs": [
    {
     "data": {
      "text/plain": [
       "Won\n",
       "False    35.130682\n",
       "True     51.000000\n",
       "Name: runs, dtype: float64"
      ]
     },
     "execution_count": 67,
     "metadata": {},
     "output_type": "execute_result"
    }
   ],
   "source": [
    "df.groupby(\"Won\")[\"runs\"].mean()"
   ]
  },
  {
   "cell_type": "code",
   "execution_count": 68,
   "id": "5d7c3751",
   "metadata": {},
   "outputs": [],
   "source": [
    "df_won = df[df[\"Won\"]==True][\"runs\"]\n",
    "df_lost = df[df[\"Won\"]==False][\"runs\"]"
   ]
  },
  {
   "cell_type": "code",
   "execution_count": 69,
   "id": "12c80b4d",
   "metadata": {},
   "outputs": [],
   "source": [
    "# Ho : mu_won = mu_lost (India Winning or losing, in both the conditions, Sachin's performance is same/similar )\n",
    "# Ha1 : mu_won > mu_lost ( Sachin's performance is significantly better when India Wins in comparison to when India loses)\n"
   ]
  },
  {
   "cell_type": "code",
   "execution_count": 70,
   "id": "802f9f12",
   "metadata": {},
   "outputs": [
    {
     "name": "stdout",
     "output_type": "stream",
     "text": [
      "t_stat :  3.628068563969343\n",
      "p_value :  0.00016353077486826558\n",
      "Reject Ho\n"
     ]
    }
   ],
   "source": [
    "t_stat,p_value=ttest_ind(df_won,df_lost,alternative=\"greater\")\n",
    "print(\"t_stat : \",t_stat)\n",
    "print(\"p_value : \",p_value)\n",
    "alpha= 0.05\n",
    "if p_value < alpha :\n",
    "    print(\"Reject Ho\")\n",
    "else : \n",
    "    print(\"Fail to Reject Ho\")"
   ]
  },
  {
   "cell_type": "code",
   "execution_count": 72,
   "id": "a7a7e006",
   "metadata": {},
   "outputs": [
    {
     "name": "stdout",
     "output_type": "stream",
     "text": [
      "t_stat :  3.628068563969343\n",
      "p_value :  0.00032706154973653116\n",
      "Reject Ho\n"
     ]
    }
   ],
   "source": [
    "t_stat,p_value=ttest_ind(df_won,df_lost,alternative=\"two-sided\")\n",
    "print(\"t_stat : \",t_stat)\n",
    "print(\"p_value : \",p_value)\n",
    "alpha= 0.05\n",
    "if p_value < alpha :\n",
    "    print(\"Reject Ho\")\n",
    "else : \n",
    "    print(\"Fail to Reject Ho\")"
   ]
  },
  {
   "cell_type": "markdown",
   "id": "7255a762",
   "metadata": {},
   "source": [
    "# Aerofit"
   ]
  },
  {
   "cell_type": "code",
   "execution_count": 73,
   "id": "258377e3",
   "metadata": {},
   "outputs": [],
   "source": [
    "df_aerofit = pd.read_csv(\"aerofit.csv\")"
   ]
  },
  {
   "cell_type": "markdown",
   "id": "1fa9fcc6",
   "metadata": {},
   "source": [
    "## Gender vs Income"
   ]
  },
  {
   "cell_type": "code",
   "execution_count": 74,
   "id": "c0b41d64",
   "metadata": {},
   "outputs": [
    {
     "data": {
      "text/plain": [
       "<AxesSubplot:xlabel='Gender', ylabel='Income'>"
      ]
     },
     "execution_count": 74,
     "metadata": {},
     "output_type": "execute_result"
    },
    {
     "data": {
      "image/png": "[encoded data removed]",
      "text/plain": [
       "<Figure size 432x288 with 1 Axes>"
      ]
     },
     "metadata": {
      "needs_background": "light"
     },
     "output_type": "display_data"
    }
   ],
   "source": [
    "sns.boxplot(x='Gender', y='Income', data=df_aerofit) "
   ]
  },
  {
   "cell_type": "code",
   "execution_count": 75,
   "id": "27e0cc6e",
   "metadata": {},
   "outputs": [],
   "source": [
    "income_male = df_aerofit[df_aerofit[\"Gender\"]==\"Male\"][\"Income\"]\n",
    "income_female = df_aerofit[df_aerofit[\"Gender\"]==\"Female\"][\"Income\"]"
   ]
  },
  {
   "cell_type": "code",
   "execution_count": 76,
   "id": "cb9dc76a",
   "metadata": {},
   "outputs": [
    {
     "data": {
      "text/plain": [
       "56562.75961538462"
      ]
     },
     "execution_count": 76,
     "metadata": {},
     "output_type": "execute_result"
    }
   ],
   "source": [
    "income_male.mean()"
   ]
  },
  {
   "cell_type": "code",
   "execution_count": 77,
   "id": "5c0b70d3",
   "metadata": {},
   "outputs": [
    {
     "data": {
      "text/plain": [
       "49828.90789473684"
      ]
     },
     "execution_count": 77,
     "metadata": {},
     "output_type": "execute_result"
    }
   ],
   "source": [
    "income_female.mean()"
   ]
  },
  {
   "cell_type": "code",
   "execution_count": 78,
   "id": "ab6371d6",
   "metadata": {},
   "outputs": [
    {
     "name": "stdout",
     "output_type": "stream",
     "text": [
      "t_stat :  2.752488637540257\n",
      "p_value :  0.003263631548607129\n",
      "Reject Ho\n"
     ]
    }
   ],
   "source": [
    "# Ho : mu_male = mu_female( Income of both males and females are similar)\n",
    "# Ha1 : mu_male > mu_female ( Income of males are significantly better than females)\n",
    "\n",
    "t_stat,p_value=ttest_ind(income_male,income_female,alternative=\"greater\")\n",
    "print(\"t_stat : \",t_stat)\n",
    "print(\"p_value : \",p_value)\n",
    "alpha= 0.05\n",
    "if p_value < alpha :\n",
    "    print(\"Reject Ho\")\n",
    "else : \n",
    "    print(\"Fail to Reject Ho\")"
   ]
  },
  {
   "cell_type": "code",
   "execution_count": null,
   "id": "1b6a34bd",
   "metadata": {},
   "outputs": [],
   "source": []
  },
  {
   "cell_type": "code",
   "execution_count": null,
   "id": "db444bd1",
   "metadata": {},
   "outputs": [],
   "source": []
  },
  {
   "cell_type": "code",
   "execution_count": null,
   "id": "3ad199d1",
   "metadata": {},
   "outputs": [],
   "source": []
  }
 ],
 "metadata": {
  "kernelspec": {
   "display_name": "Python 3 (ipykernel)",
   "language": "python",
   "name": "python3"
  },
  "language_info": {
   "codemirror_mode": {
    "name": "ipython",
    "version": 3
   },
   "file_extension": ".py",
   "mimetype": "text/x-python",
   "name": "python",
   "nbconvert_exporter": "python",
   "pygments_lexer": "ipython3",
   "version": "3.9.7"
  },
  "varInspector": {
   "cols": {
    "lenName": 16,
    "lenType": 16,
    "lenVar": 40
   },
   "kernels_config": {
    "python": {
     "delete_cmd_postfix": "",
     "delete_cmd_prefix": "del ",
     "library": "var_list.py",
     "varRefreshCmd": "print(var_dic_list())"
    },
    "r": {
     "delete_cmd_postfix": ") ",
     "delete_cmd_prefix": "rm(",
     "library": "var_list.r",
     "varRefreshCmd": "cat(var_dic_list()) "
    }
   },
   "types_to_exclude": [
    "module",
    "function",
    "builtin_function_or_method",
    "instance",
    "_Feature"
   ],
   "window_display": false
  }
 },
 "nbformat": 4,
 "nbformat_minor": 5
}
