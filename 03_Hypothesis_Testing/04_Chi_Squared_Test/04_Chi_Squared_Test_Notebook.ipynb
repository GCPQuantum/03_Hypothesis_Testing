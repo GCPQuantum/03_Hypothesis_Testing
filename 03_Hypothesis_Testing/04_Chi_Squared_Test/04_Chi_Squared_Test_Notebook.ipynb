{
 "cells": [
  {
   "cell_type": "markdown",
   "id": "72f6798b",
   "metadata": {},
   "source": [
    "# Importing Libraries"
   ]
  },
  {
   "cell_type": "code",
   "execution_count": 1,
   "id": "40e204a3",
   "metadata": {},
   "outputs": [],
   "source": [
    "import numpy as np\n",
    "import pandas as pd\n",
    "import seaborn as sns\n",
    "import matplotlib.pyplot as plt"
   ]
  },
  {
   "cell_type": "code",
   "execution_count": 43,
   "id": "17ec53e3",
   "metadata": {},
   "outputs": [],
   "source": [
    "from scipy.stats import chi2 # Distribution (cdf etc.)\n",
    "from scipy.stats import chisquare # Statistical test (chistat, pvalue)\n",
    "from scipy.stats import chi2_contingency # Categorical Vs Categorical\n",
    "from scipy.stats import ttest_rel,ttest_1samp\n",
    "from scipy.stats import binom,t\n"
   ]
  },
  {
   "cell_type": "markdown",
   "id": "feff3e16",
   "metadata": {},
   "source": [
    "# T Test Rel"
   ]
  },
  {
   "cell_type": "code",
   "execution_count": 3,
   "id": "03e37eb0",
   "metadata": {},
   "outputs": [
    {
     "data": {
      "text/html": [
       "<div>\n",
       "<style scoped>\n",
       "    .dataframe tbody tr th:only-of-type {\n",
       "        vertical-align: middle;\n",
       "    }\n",
       "\n",
       "    .dataframe tbody tr th {\n",
       "        vertical-align: top;\n",
       "    }\n",
       "\n",
       "    .dataframe thead th {\n",
       "        text-align: right;\n",
       "    }\n",
       "</style>\n",
       "<table border=\"1\" class=\"dataframe\">\n",
       "  <thead>\n",
       "    <tr style=\"text-align: right;\">\n",
       "      <th></th>\n",
       "      <th>id</th>\n",
       "      <th>test_1</th>\n",
       "      <th>test_2</th>\n",
       "    </tr>\n",
       "  </thead>\n",
       "  <tbody>\n",
       "    <tr>\n",
       "      <th>0</th>\n",
       "      <td>0</td>\n",
       "      <td>40</td>\n",
       "      <td>38</td>\n",
       "    </tr>\n",
       "    <tr>\n",
       "      <th>1</th>\n",
       "      <td>1</td>\n",
       "      <td>49</td>\n",
       "      <td>44</td>\n",
       "    </tr>\n",
       "    <tr>\n",
       "      <th>2</th>\n",
       "      <td>2</td>\n",
       "      <td>65</td>\n",
       "      <td>69</td>\n",
       "    </tr>\n",
       "    <tr>\n",
       "      <th>3</th>\n",
       "      <td>3</td>\n",
       "      <td>59</td>\n",
       "      <td>63</td>\n",
       "    </tr>\n",
       "    <tr>\n",
       "      <th>4</th>\n",
       "      <td>4</td>\n",
       "      <td>44</td>\n",
       "      <td>43</td>\n",
       "    </tr>\n",
       "    <tr>\n",
       "      <th>...</th>\n",
       "      <td>...</td>\n",
       "      <td>...</td>\n",
       "      <td>...</td>\n",
       "    </tr>\n",
       "    <tr>\n",
       "      <th>132</th>\n",
       "      <td>132</td>\n",
       "      <td>45</td>\n",
       "      <td>44</td>\n",
       "    </tr>\n",
       "    <tr>\n",
       "      <th>133</th>\n",
       "      <td>133</td>\n",
       "      <td>46</td>\n",
       "      <td>42</td>\n",
       "    </tr>\n",
       "    <tr>\n",
       "      <th>134</th>\n",
       "      <td>134</td>\n",
       "      <td>40</td>\n",
       "      <td>35</td>\n",
       "    </tr>\n",
       "    <tr>\n",
       "      <th>135</th>\n",
       "      <td>135</td>\n",
       "      <td>60</td>\n",
       "      <td>66</td>\n",
       "    </tr>\n",
       "    <tr>\n",
       "      <th>136</th>\n",
       "      <td>136</td>\n",
       "      <td>79</td>\n",
       "      <td>84</td>\n",
       "    </tr>\n",
       "  </tbody>\n",
       "</table>\n",
       "<p>137 rows × 3 columns</p>\n",
       "</div>"
      ],
      "text/plain": [
       "      id  test_1  test_2\n",
       "0      0      40      38\n",
       "1      1      49      44\n",
       "2      2      65      69\n",
       "3      3      59      63\n",
       "4      4      44      43\n",
       "..   ...     ...     ...\n",
       "132  132      45      44\n",
       "133  133      46      42\n",
       "134  134      40      35\n",
       "135  135      60      66\n",
       "136  136      79      84\n",
       "\n",
       "[137 rows x 3 columns]"
      ]
     },
     "execution_count": 3,
     "metadata": {},
     "output_type": "execute_result"
    }
   ],
   "source": [
    "df=pd.read_csv(\"problem_solving.csv\")\n",
    "df"
   ]
  },
  {
   "cell_type": "code",
   "execution_count": 4,
   "id": "e3fa47e2",
   "metadata": {},
   "outputs": [
    {
     "data": {
      "text/plain": [
       "60.48905109489051"
      ]
     },
     "execution_count": 4,
     "metadata": {},
     "output_type": "execute_result"
    }
   ],
   "source": [
    "df[\"test_1\"].mean()"
   ]
  },
  {
   "cell_type": "code",
   "execution_count": 5,
   "id": "46626012",
   "metadata": {},
   "outputs": [
    {
     "data": {
      "text/plain": [
       "62.43065693430657"
      ]
     },
     "execution_count": 5,
     "metadata": {},
     "output_type": "execute_result"
    }
   ],
   "source": [
    "df[\"test_2\"].mean()"
   ]
  },
  {
   "cell_type": "code",
   "execution_count": 8,
   "id": "879ef2ce",
   "metadata": {},
   "outputs": [
    {
     "name": "stdout",
     "output_type": "stream",
     "text": [
      "t_stat :  -5.502886353508166\n",
      "p_value :  8.979201768961566e-08\n",
      "Interpretation : Reject Ho\n"
     ]
    }
   ],
   "source": [
    "# Ho : mu1 = mu2 ( There is no effect of interview prep session or problem solving session)\n",
    "# Ha : mu1 < mu2 ( There is a significant improvement in the test score/ Problem Solving session was effective)\n",
    "t_stat,p_value=ttest_rel(df[\"test_1\"],df[\"test_2\"],alternative=\"less\")\n",
    "print(\"t_stat : \",t_stat)\n",
    "print(\"p_value : \",p_value)\n",
    "alpha = 0.05\n",
    "if p_value< alpha:\n",
    "    print(\"Interpretation : Reject Ho\")\n",
    "else:\n",
    "    print(\"Interpretation : Fail to Reject Ho\")"
   ]
  },
  {
   "cell_type": "code",
   "execution_count": 10,
   "id": "4b9eb987",
   "metadata": {},
   "outputs": [
    {
     "data": {
      "text/plain": [
       "-1.9416058394160585"
      ]
     },
     "execution_count": 10,
     "metadata": {},
     "output_type": "execute_result"
    }
   ],
   "source": [
    "np.mean(df[\"test_1\"]-df[\"test_2\"])"
   ]
  },
  {
   "cell_type": "code",
   "execution_count": 13,
   "id": "0bb0d3bc",
   "metadata": {},
   "outputs": [
    {
     "name": "stdout",
     "output_type": "stream",
     "text": [
      "t_stat :  -5.502886353508166\n",
      "p_value :  8.979201768961566e-08\n",
      "Interpretation : Reject Ho\n"
     ]
    }
   ],
   "source": [
    "# Ho : mu1 - mu2 = 0 ( There is no effect of interview prep session or problem solving session)\n",
    "# Ha : mu1 - mu2 < 0( There is a significant improvement in the test score/ Problem Solving session was effective)\n",
    "t_stat,p_value=ttest_1samp(df[\"test_1\"]-df[\"test_2\"],0,alternative=\"less\")\n",
    "print(\"t_stat : \",t_stat)\n",
    "print(\"p_value : \",p_value)\n",
    "alpha = 0.05\n",
    "if p_value< alpha:\n",
    "    print(\"Interpretation : Reject Ho\")\n",
    "else:\n",
    "    print(\"Interpretation : Fail to Reject Ho\")"
   ]
  },
  {
   "cell_type": "code",
   "execution_count": 14,
   "id": "2e48c382",
   "metadata": {},
   "outputs": [
    {
     "name": "stdout",
     "output_type": "stream",
     "text": [
      "t_stat :  5.502886353508166\n",
      "p_value :  8.979201768961566e-08\n",
      "Interpretation : Reject Ho\n"
     ]
    }
   ],
   "source": [
    "# Ho : mu2 - mu1 = 0 ( There is no effect of interview prep session or problem solving session)\n",
    "# Ha : mu2 - mu1 > 0( There is a significant improvement in the test score/ Problem Solving session was effective)\n",
    "t_stat,p_value=ttest_1samp(df[\"test_2\"]-df[\"test_1\"],0,alternative=\"greater\")\n",
    "print(\"t_stat : \",t_stat)\n",
    "print(\"p_value : \",p_value)\n",
    "alpha = 0.05\n",
    "if p_value< alpha:\n",
    "    print(\"Interpretation : Reject Ho\")\n",
    "else:\n",
    "    print(\"Interpretation : Fail to Reject Ho\")"
   ]
  },
  {
   "cell_type": "markdown",
   "id": "c84b94ce",
   "metadata": {},
   "source": [
    "# Chi Square Test"
   ]
  },
  {
   "cell_type": "code",
   "execution_count": 19,
   "id": "4f6c571c",
   "metadata": {},
   "outputs": [
    {
     "data": {
      "text/plain": [
       "0.16111816017877345"
      ]
     },
     "execution_count": 19,
     "metadata": {},
     "output_type": "execute_result"
    }
   ],
   "source": [
    "1-binom.cdf(n=50,k=28,p=0.5)"
   ]
  },
  {
   "cell_type": "code",
   "execution_count": 20,
   "id": "e4edeb84",
   "metadata": {},
   "outputs": [
    {
     "data": {
      "text/plain": [
       "2.2308910274659866e-10"
      ]
     },
     "execution_count": 20,
     "metadata": {},
     "output_type": "execute_result"
    }
   ],
   "source": [
    "1-binom.cdf(n=50,k=45,p=0.5)"
   ]
  },
  {
   "cell_type": "code",
   "execution_count": 21,
   "id": "7ee87cf0",
   "metadata": {},
   "outputs": [
    {
     "data": {
      "text/plain": [
       "0.72"
      ]
     },
     "execution_count": 21,
     "metadata": {},
     "output_type": "execute_result"
    }
   ],
   "source": [
    "(((28-25)**2)/25)+(((22-25)**2)/25)"
   ]
  },
  {
   "cell_type": "code",
   "execution_count": 24,
   "id": "bdfb9f63",
   "metadata": {},
   "outputs": [
    {
     "name": "stdout",
     "output_type": "stream",
     "text": [
      "chi_stat :  0.72\n",
      "p_value :  0.3961439091520741\n",
      "Interpretation : Fail to Reject Ho\n"
     ]
    }
   ],
   "source": [
    "# Ho : coin is Fair\n",
    "# Ha : Coin is biased\n",
    "chi_stat=(((28-25)**2)/25)+(((22-25)**2)/25)\n",
    "p_value=1-chi2.cdf(chi_stat,df=1)\n",
    "print(\"chi_stat : \",chi_stat)\n",
    "print(\"p_value : \",p_value)\n",
    "alpha = 0.05\n",
    "if p_value< alpha:\n",
    "    print(\"Interpretation : Reject Ho\")\n",
    "else:\n",
    "    print(\"Interpretation : Fail to Reject Ho\")"
   ]
  },
  {
   "cell_type": "code",
   "execution_count": 26,
   "id": "5c3af111",
   "metadata": {},
   "outputs": [
    {
     "name": "stdout",
     "output_type": "stream",
     "text": [
      "chi_stat :  0.72\n",
      "p_value :  0.3961439091520741\n",
      "Interpretation : Fail to Reject Ho\n"
     ]
    }
   ],
   "source": [
    "# Ho : coin is Fair\n",
    "# Ha : Coin is biased\n",
    "chi_stat,p_value=chisquare([28,22],[25,25])\n",
    "print(\"chi_stat : \",chi_stat)\n",
    "print(\"p_value : \",p_value)\n",
    "alpha = 0.05\n",
    "if p_value< alpha:\n",
    "    print(\"Interpretation : Reject Ho\")\n",
    "else:\n",
    "    print(\"Interpretation : Fail to Reject Ho\")"
   ]
  },
  {
   "cell_type": "code",
   "execution_count": 28,
   "id": "0b03a5bf",
   "metadata": {},
   "outputs": [
    {
     "name": "stdout",
     "output_type": "stream",
     "text": [
      "critival_chi_stat :  3.841458820694124\n"
     ]
    }
   ],
   "source": [
    "critival_chi_stat= chi2.ppf(0.95,df=1)\n",
    "print(\"critival_chi_stat : \",critival_chi_stat)"
   ]
  },
  {
   "cell_type": "code",
   "execution_count": 29,
   "id": "7cb1d54d",
   "metadata": {},
   "outputs": [
    {
     "name": "stdout",
     "output_type": "stream",
     "text": [
      "chi_stat :  32.0\n",
      "p_value :  1.5417257900280013e-08\n",
      "Interpretation : Reject Ho\n"
     ]
    }
   ],
   "source": [
    "# Ho : coin is Fair\n",
    "# Ha : Coin is biased\n",
    "chi_stat,p_value=chisquare([45,5],[25,25])\n",
    "print(\"chi_stat : \",chi_stat)\n",
    "print(\"p_value : \",p_value)\n",
    "alpha = 0.05\n",
    "if p_value< alpha:\n",
    "    print(\"Interpretation : Reject Ho\")\n",
    "else:\n",
    "    print(\"Interpretation : Fail to Reject Ho\")"
   ]
  },
  {
   "cell_type": "code",
   "execution_count": 32,
   "id": "302e48cc",
   "metadata": {},
   "outputs": [
    {
     "name": "stdout",
     "output_type": "stream",
     "text": [
      "chi_stat :  32.0\n",
      "p_value :  1.5417257900280013e-08\n",
      "Interpretation : Reject Ho\n"
     ]
    }
   ],
   "source": [
    "# Ho : coin is Fair\n",
    "# Ha : Coin is biased\n",
    "chi_stat,p_value=chisquare([45,5],[25,25])\n",
    "print(\"chi_stat : \",chi_stat)\n",
    "print(\"p_value : \",p_value)\n",
    "alpha = 0.05\n",
    "if p_value< alpha:\n",
    "    print(\"Interpretation : Reject Ho\")\n",
    "else:\n",
    "    print(\"Interpretation : Fail to Reject Ho\")"
   ]
  },
  {
   "cell_type": "code",
   "execution_count": null,
   "id": "73620e27",
   "metadata": {},
   "outputs": [],
   "source": []
  },
  {
   "cell_type": "code",
   "execution_count": null,
   "id": "4756a87b",
   "metadata": {},
   "outputs": [],
   "source": []
  },
  {
   "cell_type": "code",
   "execution_count": null,
   "id": "6d157a60",
   "metadata": {},
   "outputs": [],
   "source": []
  },
  {
   "cell_type": "code",
   "execution_count": null,
   "id": "c3b0262a",
   "metadata": {},
   "outputs": [],
   "source": []
  },
  {
   "cell_type": "code",
   "execution_count": null,
   "id": "2d183204",
   "metadata": {},
   "outputs": [],
   "source": []
  },
  {
   "cell_type": "code",
   "execution_count": null,
   "id": "aabef3aa",
   "metadata": {},
   "outputs": [],
   "source": []
  },
  {
   "cell_type": "code",
   "execution_count": null,
   "id": "0c6e2e5b",
   "metadata": {},
   "outputs": [],
   "source": []
  },
  {
   "cell_type": "markdown",
   "id": "35965ba4",
   "metadata": {},
   "source": [
    "# Aerofit"
   ]
  },
  {
   "cell_type": "markdown",
   "id": "ea9c3ea5",
   "metadata": {
    "heading_collapsed": true
   },
   "source": [
    "## Gender Vs Product"
   ]
  },
  {
   "cell_type": "code",
   "execution_count": 40,
   "id": "c327a7b5",
   "metadata": {
    "hidden": true
   },
   "outputs": [
    {
     "data": {
      "text/html": [
       "<div>\n",
       "<style scoped>\n",
       "    .dataframe tbody tr th:only-of-type {\n",
       "        vertical-align: middle;\n",
       "    }\n",
       "\n",
       "    .dataframe tbody tr th {\n",
       "        vertical-align: top;\n",
       "    }\n",
       "\n",
       "    .dataframe thead th {\n",
       "        text-align: right;\n",
       "    }\n",
       "</style>\n",
       "<table border=\"1\" class=\"dataframe\">\n",
       "  <thead>\n",
       "    <tr style=\"text-align: right;\">\n",
       "      <th>Product</th>\n",
       "      <th>KP281</th>\n",
       "      <th>KP481</th>\n",
       "      <th>KP781</th>\n",
       "    </tr>\n",
       "    <tr>\n",
       "      <th>Gender</th>\n",
       "      <th></th>\n",
       "      <th></th>\n",
       "      <th></th>\n",
       "    </tr>\n",
       "  </thead>\n",
       "  <tbody>\n",
       "    <tr>\n",
       "      <th>Female</th>\n",
       "      <td>40</td>\n",
       "      <td>29</td>\n",
       "      <td>7</td>\n",
       "    </tr>\n",
       "    <tr>\n",
       "      <th>Male</th>\n",
       "      <td>40</td>\n",
       "      <td>31</td>\n",
       "      <td>33</td>\n",
       "    </tr>\n",
       "  </tbody>\n",
       "</table>\n",
       "</div>"
      ],
      "text/plain": [
       "Product  KP281  KP481  KP781\n",
       "Gender                      \n",
       "Female      40     29      7\n",
       "Male        40     31     33"
      ]
     },
     "execution_count": 40,
     "metadata": {},
     "output_type": "execute_result"
    }
   ],
   "source": [
    "gender_product= pd.crosstab(columns=df[\"Product\"],index=df[\"Gender\"])\n",
    "gender_product"
   ]
  },
  {
   "cell_type": "code",
   "execution_count": 41,
   "id": "2087a689",
   "metadata": {
    "hidden": true
   },
   "outputs": [
    {
     "name": "stdout",
     "output_type": "stream",
     "text": [
      "chi_stat :  12.923836032388664\n",
      "p_value :  0.0015617972833158714\n",
      "df :  2\n",
      "expected_freq :  [[33.77777778 25.33333333 16.88888889]\n",
      " [46.22222222 34.66666667 23.11111111]]\n",
      "Interpretation : Reject Ho\n"
     ]
    }
   ],
   "source": [
    "# Ho : Gender Doesnt affect ( independant)\n",
    "# Ha : Gender Affects buying pattern ( dependant)\n",
    "\n",
    "\n",
    "chi_stat,p_value,df,expected_freq=chi2_contingency(gender_product)\n",
    "print(\"chi_stat : \",chi_stat)\n",
    "print(\"p_value : \",p_value)\n",
    "print(\"df : \",df)\n",
    "print(\"expected_freq : \",expected_freq)\n",
    "alpha = 0.05\n",
    "if p_value <alpha :\n",
    "    print(\"Interpretation : Reject Ho\")\n",
    "else:\n",
    "    print(\"Interpretation : Fail to Reject Ho\")"
   ]
  },
  {
   "cell_type": "markdown",
   "id": "e08db4fa",
   "metadata": {},
   "source": [
    "## Income vs Product"
   ]
  },
  {
   "cell_type": "markdown",
   "id": "9ff3ed1f",
   "metadata": {},
   "source": [
    "## Income vs Gender"
   ]
  },
  {
   "cell_type": "code",
   "execution_count": null,
   "id": "22b545bd",
   "metadata": {},
   "outputs": [],
   "source": []
  },
  {
   "cell_type": "code",
   "execution_count": null,
   "id": "46554060",
   "metadata": {},
   "outputs": [],
   "source": []
  },
  {
   "cell_type": "code",
   "execution_count": null,
   "id": "972caabc",
   "metadata": {},
   "outputs": [],
   "source": []
  },
  {
   "cell_type": "code",
   "execution_count": null,
   "id": "f7a68a59",
   "metadata": {},
   "outputs": [],
   "source": []
  },
  {
   "cell_type": "code",
   "execution_count": null,
   "id": "f85d55a6",
   "metadata": {},
   "outputs": [],
   "source": []
  },
  {
   "cell_type": "code",
   "execution_count": null,
   "id": "d88cf388",
   "metadata": {},
   "outputs": [],
   "source": []
  },
  {
   "cell_type": "code",
   "execution_count": null,
   "id": "f93448e7",
   "metadata": {},
   "outputs": [],
   "source": []
  }
 ],
 "metadata": {
  "kernelspec": {
   "display_name": "Python 3 (ipykernel)",
   "language": "python",
   "name": "python3"
  },
  "language_info": {
   "codemirror_mode": {
    "name": "ipython",
    "version": 3
   },
   "file_extension": ".py",
   "mimetype": "text/x-python",
   "name": "python",
   "nbconvert_exporter": "python",
   "pygments_lexer": "ipython3",
   "version": "3.9.7"
  },
  "varInspector": {
   "cols": {
    "lenName": 16,
    "lenType": 16,
    "lenVar": 40
   },
   "kernels_config": {
    "python": {
     "delete_cmd_postfix": "",
     "delete_cmd_prefix": "del ",
     "library": "var_list.py",
     "varRefreshCmd": "print(var_dic_list())"
    },
    "r": {
     "delete_cmd_postfix": ") ",
     "delete_cmd_prefix": "rm(",
     "library": "var_list.r",
     "varRefreshCmd": "cat(var_dic_list()) "
    }
   },
   "types_to_exclude": [
    "module",
    "function",
    "builtin_function_or_method",
    "instance",
    "_Feature"
   ],
   "window_display": false
  }
 },
 "nbformat": 4,
 "nbformat_minor": 5
}
